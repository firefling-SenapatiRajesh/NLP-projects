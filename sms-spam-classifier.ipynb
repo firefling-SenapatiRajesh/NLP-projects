{
 "cells": [
  {
   "cell_type": "code",
   "execution_count": 1,
   "id": "0b427fde",
   "metadata": {
    "_cell_guid": "b1076dfc-b9ad-4769-8c92-a6c4dae69d19",
    "_uuid": "8f2839f25d086af736a60e9eeb907d3b93b6e0e5",
    "execution": {
     "iopub.execute_input": "2022-12-23T05:47:09.549690Z",
     "iopub.status.busy": "2022-12-23T05:47:09.548706Z",
     "iopub.status.idle": "2022-12-23T05:47:09.571763Z",
     "shell.execute_reply": "2022-12-23T05:47:09.570895Z"
    },
    "papermill": {
     "duration": 0.045201,
     "end_time": "2022-12-23T05:47:09.574537",
     "exception": false,
     "start_time": "2022-12-23T05:47:09.529336",
     "status": "completed"
    },
    "tags": []
   },
   "outputs": [
    {
     "name": "stdout",
     "output_type": "stream",
     "text": [
      "/kaggle/input/sms-spam-collection-dataset/spam.csv\n"
     ]
    }
   ],
   "source": [
    "# This Python 3 environment comes with many helpful analytics libraries installed\n",
    "# It is defined by the kaggle/python Docker image: https://github.com/kaggle/docker-python\n",
    "# For example, here's several helpful packages to load\n",
    "\n",
    "import numpy as np # linear algebra\n",
    "import pandas as pd # data processing, CSV file I/O (e.g. pd.read_csv)\n",
    "\n",
    "# Input data files are available in the read-only \"../input/\" directory\n",
    "# For example, running this (by clicking run or pressing Shift+Enter) will list all files under the input directory\n",
    "\n",
    "import os\n",
    "for dirname, _, filenames in os.walk('/kaggle/input'):\n",
    "    for filename in filenames:\n",
    "        print(os.path.join(dirname, filename))\n",
    "\n",
    "# You can write up to 20GB to the current directory (/kaggle/working/) that gets preserved as output when you create a version using \"Save & Run All\" \n",
    "# You can also write temporary files to /kaggle/temp/, but they won't be saved outside of the current session"
   ]
  },
  {
   "cell_type": "code",
   "execution_count": 2,
   "id": "4ef296c8",
   "metadata": {
    "execution": {
     "iopub.execute_input": "2022-12-23T05:47:09.609183Z",
     "iopub.status.busy": "2022-12-23T05:47:09.608254Z",
     "iopub.status.idle": "2022-12-23T05:47:09.643757Z",
     "shell.execute_reply": "2022-12-23T05:47:09.642587Z"
    },
    "papermill": {
     "duration": 0.055523,
     "end_time": "2022-12-23T05:47:09.646662",
     "exception": false,
     "start_time": "2022-12-23T05:47:09.591139",
     "status": "completed"
    },
    "tags": []
   },
   "outputs": [],
   "source": [
    "df=pd.read_csv('/kaggle/input/sms-spam-collection-dataset/spam.csv',encoding='latin-1')"
   ]
  },
  {
   "cell_type": "code",
   "execution_count": 3,
   "id": "6e51315b",
   "metadata": {
    "execution": {
     "iopub.execute_input": "2022-12-23T05:47:09.682873Z",
     "iopub.status.busy": "2022-12-23T05:47:09.682057Z",
     "iopub.status.idle": "2022-12-23T05:47:09.717366Z",
     "shell.execute_reply": "2022-12-23T05:47:09.715811Z"
    },
    "papermill": {
     "duration": 0.057307,
     "end_time": "2022-12-23T05:47:09.720437",
     "exception": false,
     "start_time": "2022-12-23T05:47:09.663130",
     "status": "completed"
    },
    "tags": []
   },
   "outputs": [
    {
     "data": {
      "text/html": [
       "<div>\n",
       "<style scoped>\n",
       "    .dataframe tbody tr th:only-of-type {\n",
       "        vertical-align: middle;\n",
       "    }\n",
       "\n",
       "    .dataframe tbody tr th {\n",
       "        vertical-align: top;\n",
       "    }\n",
       "\n",
       "    .dataframe thead th {\n",
       "        text-align: right;\n",
       "    }\n",
       "</style>\n",
       "<table border=\"1\" class=\"dataframe\">\n",
       "  <thead>\n",
       "    <tr style=\"text-align: right;\">\n",
       "      <th></th>\n",
       "      <th>v1</th>\n",
       "      <th>v2</th>\n",
       "      <th>Unnamed: 2</th>\n",
       "      <th>Unnamed: 3</th>\n",
       "      <th>Unnamed: 4</th>\n",
       "    </tr>\n",
       "  </thead>\n",
       "  <tbody>\n",
       "    <tr>\n",
       "      <th>3267</th>\n",
       "      <td>ham</td>\n",
       "      <td>Which is why i never wanted to tell you any of...</td>\n",
       "      <td>NaN</td>\n",
       "      <td>NaN</td>\n",
       "      <td>NaN</td>\n",
       "    </tr>\n",
       "    <tr>\n",
       "      <th>1680</th>\n",
       "      <td>ham</td>\n",
       "      <td>Okay... We wait ah</td>\n",
       "      <td>NaN</td>\n",
       "      <td>NaN</td>\n",
       "      <td>NaN</td>\n",
       "    </tr>\n",
       "    <tr>\n",
       "      <th>2201</th>\n",
       "      <td>ham</td>\n",
       "      <td>A boy was late 2 home. His father: \\POWER OF F...</td>\n",
       "      <td>NaN</td>\n",
       "      <td>NaN</td>\n",
       "      <td>NaN</td>\n",
       "    </tr>\n",
       "    <tr>\n",
       "      <th>975</th>\n",
       "      <td>ham</td>\n",
       "      <td>Hey no I ad a crap nite was borin without ya 2...</td>\n",
       "      <td>NaN</td>\n",
       "      <td>NaN</td>\n",
       "      <td>NaN</td>\n",
       "    </tr>\n",
       "    <tr>\n",
       "      <th>5509</th>\n",
       "      <td>ham</td>\n",
       "      <td>Lol they were mad at first but then they woke ...</td>\n",
       "      <td>NaN</td>\n",
       "      <td>NaN</td>\n",
       "      <td>NaN</td>\n",
       "    </tr>\n",
       "  </tbody>\n",
       "</table>\n",
       "</div>"
      ],
      "text/plain": [
       "       v1                                                 v2 Unnamed: 2  \\\n",
       "3267  ham  Which is why i never wanted to tell you any of...        NaN   \n",
       "1680  ham                                 Okay... We wait ah        NaN   \n",
       "2201  ham  A boy was late 2 home. His father: \\POWER OF F...        NaN   \n",
       "975   ham  Hey no I ad a crap nite was borin without ya 2...        NaN   \n",
       "5509  ham  Lol they were mad at first but then they woke ...        NaN   \n",
       "\n",
       "     Unnamed: 3 Unnamed: 4  \n",
       "3267        NaN        NaN  \n",
       "1680        NaN        NaN  \n",
       "2201        NaN        NaN  \n",
       "975         NaN        NaN  \n",
       "5509        NaN        NaN  "
      ]
     },
     "execution_count": 3,
     "metadata": {},
     "output_type": "execute_result"
    }
   ],
   "source": [
    "df.sample(5)\n",
    "#Here V1 is target variable(ham/spam)\n",
    "#Unnamed columns seems to be having more null values.will explore"
   ]
  },
  {
   "cell_type": "code",
   "execution_count": 4,
   "id": "957d8411",
   "metadata": {
    "execution": {
     "iopub.execute_input": "2022-12-23T05:47:09.761127Z",
     "iopub.status.busy": "2022-12-23T05:47:09.760025Z",
     "iopub.status.idle": "2022-12-23T05:47:09.767137Z",
     "shell.execute_reply": "2022-12-23T05:47:09.766161Z"
    },
    "papermill": {
     "duration": 0.02668,
     "end_time": "2022-12-23T05:47:09.769329",
     "exception": false,
     "start_time": "2022-12-23T05:47:09.742649",
     "status": "completed"
    },
    "tags": []
   },
   "outputs": [
    {
     "data": {
      "text/plain": [
       "(5572, 5)"
      ]
     },
     "execution_count": 4,
     "metadata": {},
     "output_type": "execute_result"
    }
   ],
   "source": [
    "#Shape of the dataset\n",
    "df.shape"
   ]
  },
  {
   "cell_type": "markdown",
   "id": "dac87956",
   "metadata": {
    "papermill": {
     "duration": 0.016391,
     "end_time": "2022-12-23T05:47:09.803056",
     "exception": false,
     "start_time": "2022-12-23T05:47:09.786665",
     "status": "completed"
    },
    "tags": []
   },
   "source": [
    "**Data cleaning**"
   ]
  },
  {
   "cell_type": "code",
   "execution_count": 5,
   "id": "3ccc9e70",
   "metadata": {
    "execution": {
     "iopub.execute_input": "2022-12-23T05:47:09.838235Z",
     "iopub.status.busy": "2022-12-23T05:47:09.837848Z",
     "iopub.status.idle": "2022-12-23T05:47:09.864229Z",
     "shell.execute_reply": "2022-12-23T05:47:09.863244Z"
    },
    "papermill": {
     "duration": 0.047124,
     "end_time": "2022-12-23T05:47:09.867564",
     "exception": false,
     "start_time": "2022-12-23T05:47:09.820440",
     "status": "completed"
    },
    "tags": []
   },
   "outputs": [
    {
     "name": "stdout",
     "output_type": "stream",
     "text": [
      "<class 'pandas.core.frame.DataFrame'>\n",
      "RangeIndex: 5572 entries, 0 to 5571\n",
      "Data columns (total 5 columns):\n",
      " #   Column      Non-Null Count  Dtype \n",
      "---  ------      --------------  ----- \n",
      " 0   v1          5572 non-null   object\n",
      " 1   v2          5572 non-null   object\n",
      " 2   Unnamed: 2  50 non-null     object\n",
      " 3   Unnamed: 3  12 non-null     object\n",
      " 4   Unnamed: 4  6 non-null      object\n",
      "dtypes: object(5)\n",
      "memory usage: 217.8+ KB\n"
     ]
    }
   ],
   "source": [
    "#Checking data type\n",
    "df.info()"
   ]
  },
  {
   "cell_type": "code",
   "execution_count": 6,
   "id": "2cebf20f",
   "metadata": {
    "execution": {
     "iopub.execute_input": "2022-12-23T05:47:09.910526Z",
     "iopub.status.busy": "2022-12-23T05:47:09.909552Z",
     "iopub.status.idle": "2022-12-23T05:47:09.923362Z",
     "shell.execute_reply": "2022-12-23T05:47:09.922181Z"
    },
    "papermill": {
     "duration": 0.03542,
     "end_time": "2022-12-23T05:47:09.925713",
     "exception": false,
     "start_time": "2022-12-23T05:47:09.890293",
     "status": "completed"
    },
    "tags": []
   },
   "outputs": [
    {
     "data": {
      "text/plain": [
       "Unnamed: 4    0.998923\n",
       "Unnamed: 3    0.997846\n",
       "Unnamed: 2    0.991027\n",
       "v1            0.000000\n",
       "v2            0.000000\n",
       "dtype: float64"
      ]
     },
     "execution_count": 6,
     "metadata": {},
     "output_type": "execute_result"
    }
   ],
   "source": [
    "#Checking null values proportion\n",
    "(df.isnull().sum()/df.shape[0]).sort_values(ascending=False)"
   ]
  },
  {
   "cell_type": "markdown",
   "id": "c17ba610",
   "metadata": {
    "papermill": {
     "duration": 0.016463,
     "end_time": "2022-12-23T05:47:09.959027",
     "exception": false,
     "start_time": "2022-12-23T05:47:09.942564",
     "status": "completed"
    },
    "tags": []
   },
   "source": [
    "As expected, Unnamed columns are of no use as they consist more than 99% null data"
   ]
  },
  {
   "cell_type": "code",
   "execution_count": 7,
   "id": "f8d48c8e",
   "metadata": {
    "execution": {
     "iopub.execute_input": "2022-12-23T05:47:10.000918Z",
     "iopub.status.busy": "2022-12-23T05:47:10.000257Z",
     "iopub.status.idle": "2022-12-23T05:47:10.006241Z",
     "shell.execute_reply": "2022-12-23T05:47:10.004956Z"
    },
    "papermill": {
     "duration": 0.029068,
     "end_time": "2022-12-23T05:47:10.009083",
     "exception": false,
     "start_time": "2022-12-23T05:47:09.980015",
     "status": "completed"
    },
    "tags": []
   },
   "outputs": [],
   "source": [
    "#Dropping the same\n",
    "df.drop(columns=['Unnamed: 2','Unnamed: 3','Unnamed: 4'],inplace=True)"
   ]
  },
  {
   "cell_type": "code",
   "execution_count": 8,
   "id": "1b75ef6c",
   "metadata": {
    "execution": {
     "iopub.execute_input": "2022-12-23T05:47:10.044781Z",
     "iopub.status.busy": "2022-12-23T05:47:10.044064Z",
     "iopub.status.idle": "2022-12-23T05:47:10.054073Z",
     "shell.execute_reply": "2022-12-23T05:47:10.052949Z"
    },
    "papermill": {
     "duration": 0.030045,
     "end_time": "2022-12-23T05:47:10.056424",
     "exception": false,
     "start_time": "2022-12-23T05:47:10.026379",
     "status": "completed"
    },
    "tags": []
   },
   "outputs": [
    {
     "data": {
      "text/html": [
       "<div>\n",
       "<style scoped>\n",
       "    .dataframe tbody tr th:only-of-type {\n",
       "        vertical-align: middle;\n",
       "    }\n",
       "\n",
       "    .dataframe tbody tr th {\n",
       "        vertical-align: top;\n",
       "    }\n",
       "\n",
       "    .dataframe thead th {\n",
       "        text-align: right;\n",
       "    }\n",
       "</style>\n",
       "<table border=\"1\" class=\"dataframe\">\n",
       "  <thead>\n",
       "    <tr style=\"text-align: right;\">\n",
       "      <th></th>\n",
       "      <th>v1</th>\n",
       "      <th>v2</th>\n",
       "    </tr>\n",
       "  </thead>\n",
       "  <tbody>\n",
       "    <tr>\n",
       "      <th>5380</th>\n",
       "      <td>ham</td>\n",
       "      <td>Its sunny in california. The weather's just cool</td>\n",
       "    </tr>\n",
       "    <tr>\n",
       "      <th>836</th>\n",
       "      <td>spam</td>\n",
       "      <td>Do you want 750 anytime any network mins 150 t...</td>\n",
       "    </tr>\n",
       "    <tr>\n",
       "      <th>4529</th>\n",
       "      <td>ham</td>\n",
       "      <td>Don't forget though that I love you .... And I...</td>\n",
       "    </tr>\n",
       "    <tr>\n",
       "      <th>4789</th>\n",
       "      <td>ham</td>\n",
       "      <td>Yup. Izzit still raining heavily cos i'm in e ...</td>\n",
       "    </tr>\n",
       "    <tr>\n",
       "      <th>4359</th>\n",
       "      <td>ham</td>\n",
       "      <td>Night sweet, sleep well! I've just been to see...</td>\n",
       "    </tr>\n",
       "  </tbody>\n",
       "</table>\n",
       "</div>"
      ],
      "text/plain": [
       "        v1                                                 v2\n",
       "5380   ham   Its sunny in california. The weather's just cool\n",
       "836   spam  Do you want 750 anytime any network mins 150 t...\n",
       "4529   ham  Don't forget though that I love you .... And I...\n",
       "4789   ham  Yup. Izzit still raining heavily cos i'm in e ...\n",
       "4359   ham  Night sweet, sleep well! I've just been to see..."
      ]
     },
     "execution_count": 8,
     "metadata": {},
     "output_type": "execute_result"
    }
   ],
   "source": [
    "#New df....Great!!! But the column names seems to be invalid.So let's rename them\n",
    "df.sample(5)"
   ]
  },
  {
   "cell_type": "code",
   "execution_count": 9,
   "id": "8f5a93aa",
   "metadata": {
    "execution": {
     "iopub.execute_input": "2022-12-23T05:47:10.092443Z",
     "iopub.status.busy": "2022-12-23T05:47:10.091326Z",
     "iopub.status.idle": "2022-12-23T05:47:10.100066Z",
     "shell.execute_reply": "2022-12-23T05:47:10.098149Z"
    },
    "papermill": {
     "duration": 0.032275,
     "end_time": "2022-12-23T05:47:10.105410",
     "exception": false,
     "start_time": "2022-12-23T05:47:10.073135",
     "status": "completed"
    },
    "tags": []
   },
   "outputs": [],
   "source": [
    "#Renaming the columns\n",
    "df.rename(columns={'v1':'target','v2':'text'},inplace=True)"
   ]
  },
  {
   "cell_type": "code",
   "execution_count": 10,
   "id": "7f72f93d",
   "metadata": {
    "execution": {
     "iopub.execute_input": "2022-12-23T05:47:10.157785Z",
     "iopub.status.busy": "2022-12-23T05:47:10.157017Z",
     "iopub.status.idle": "2022-12-23T05:47:10.167670Z",
     "shell.execute_reply": "2022-12-23T05:47:10.166741Z"
    },
    "papermill": {
     "duration": 0.041173,
     "end_time": "2022-12-23T05:47:10.170507",
     "exception": false,
     "start_time": "2022-12-23T05:47:10.129334",
     "status": "completed"
    },
    "tags": []
   },
   "outputs": [
    {
     "data": {
      "text/html": [
       "<div>\n",
       "<style scoped>\n",
       "    .dataframe tbody tr th:only-of-type {\n",
       "        vertical-align: middle;\n",
       "    }\n",
       "\n",
       "    .dataframe tbody tr th {\n",
       "        vertical-align: top;\n",
       "    }\n",
       "\n",
       "    .dataframe thead th {\n",
       "        text-align: right;\n",
       "    }\n",
       "</style>\n",
       "<table border=\"1\" class=\"dataframe\">\n",
       "  <thead>\n",
       "    <tr style=\"text-align: right;\">\n",
       "      <th></th>\n",
       "      <th>target</th>\n",
       "      <th>text</th>\n",
       "    </tr>\n",
       "  </thead>\n",
       "  <tbody>\n",
       "    <tr>\n",
       "      <th>5371</th>\n",
       "      <td>ham</td>\n",
       "      <td>Lol, oh you got a friend for the dog ?</td>\n",
       "    </tr>\n",
       "    <tr>\n",
       "      <th>2756</th>\n",
       "      <td>ham</td>\n",
       "      <td>Have a good trip. Watch out for . Remember whe...</td>\n",
       "    </tr>\n",
       "    <tr>\n",
       "      <th>4341</th>\n",
       "      <td>ham</td>\n",
       "      <td>Ha! I wouldn't say that I just didn't read any...</td>\n",
       "    </tr>\n",
       "    <tr>\n",
       "      <th>3535</th>\n",
       "      <td>ham</td>\n",
       "      <td>Oic cos me n my sis got no lunch today my dad ...</td>\n",
       "    </tr>\n",
       "    <tr>\n",
       "      <th>3446</th>\n",
       "      <td>ham</td>\n",
       "      <td>Sitting ard nothing to do lor. U leh busy w work?</td>\n",
       "    </tr>\n",
       "  </tbody>\n",
       "</table>\n",
       "</div>"
      ],
      "text/plain": [
       "     target                                               text\n",
       "5371    ham             Lol, oh you got a friend for the dog ?\n",
       "2756    ham  Have a good trip. Watch out for . Remember whe...\n",
       "4341    ham  Ha! I wouldn't say that I just didn't read any...\n",
       "3535    ham  Oic cos me n my sis got no lunch today my dad ...\n",
       "3446    ham  Sitting ard nothing to do lor. U leh busy w work?"
      ]
     },
     "execution_count": 10,
     "metadata": {},
     "output_type": "execute_result"
    }
   ],
   "source": [
    "#here we go!!!\n",
    "df.sample(5)"
   ]
  },
  {
   "cell_type": "markdown",
   "id": "ddbb75ac",
   "metadata": {
    "papermill": {
     "duration": 0.017597,
     "end_time": "2022-12-23T05:47:10.210195",
     "exception": false,
     "start_time": "2022-12-23T05:47:10.192598",
     "status": "completed"
    },
    "tags": []
   },
   "source": [
    "* Now let's go column by column\n",
    "* firstly,\n",
    "* target column-\n",
    "    *     Will do encoding for machine understanding of spam/ham type\n",
    "* for text column lot work is to be done..But yeahh!!! we will follow these steps\n",
    "    *     Remove dulicates\n",
    "    *     Perform EDA\n",
    "*     Using NLTK, will perform some more analysis\n",
    "*     Perform some NLP steps to find out top most words used in spam/ham messages\n",
    "*     Build the model using feature extraction techniques and using different algos\n",
    "*     Finally chose the best model based on precision and accuracy scores\n",
    "*  So what are waiting..Let's continue!!\n"
   ]
  },
  {
   "cell_type": "code",
   "execution_count": 11,
   "id": "666d44c7",
   "metadata": {
    "execution": {
     "iopub.execute_input": "2022-12-23T05:47:10.247928Z",
     "iopub.status.busy": "2022-12-23T05:47:10.247161Z",
     "iopub.status.idle": "2022-12-23T05:47:10.257371Z",
     "shell.execute_reply": "2022-12-23T05:47:10.255788Z"
    },
    "papermill": {
     "duration": 0.031998,
     "end_time": "2022-12-23T05:47:10.260298",
     "exception": false,
     "start_time": "2022-12-23T05:47:10.228300",
     "status": "completed"
    },
    "tags": []
   },
   "outputs": [
    {
     "data": {
      "text/plain": [
       "target    0\n",
       "text      0\n",
       "dtype: int64"
      ]
     },
     "execution_count": 11,
     "metadata": {},
     "output_type": "execute_result"
    }
   ],
   "source": [
    "df.isnull().sum()\n",
    "#No missing values"
   ]
  },
  {
   "cell_type": "code",
   "execution_count": 12,
   "id": "79d7641b",
   "metadata": {
    "execution": {
     "iopub.execute_input": "2022-12-23T05:47:10.296441Z",
     "iopub.status.busy": "2022-12-23T05:47:10.296026Z",
     "iopub.status.idle": "2022-12-23T05:47:10.308983Z",
     "shell.execute_reply": "2022-12-23T05:47:10.307900Z"
    },
    "papermill": {
     "duration": 0.034079,
     "end_time": "2022-12-23T05:47:10.311968",
     "exception": false,
     "start_time": "2022-12-23T05:47:10.277889",
     "status": "completed"
    },
    "tags": []
   },
   "outputs": [
    {
     "data": {
      "text/plain": [
       "403"
      ]
     },
     "execution_count": 12,
     "metadata": {},
     "output_type": "execute_result"
    }
   ],
   "source": [
    "#Check for duplicate values\n",
    "df.duplicated().sum()\n",
    "\n",
    "#!Ooops we got duplicate values so let' remove them"
   ]
  },
  {
   "cell_type": "code",
   "execution_count": 13,
   "id": "0439a195",
   "metadata": {
    "execution": {
     "iopub.execute_input": "2022-12-23T05:47:10.349026Z",
     "iopub.status.busy": "2022-12-23T05:47:10.347803Z",
     "iopub.status.idle": "2022-12-23T05:47:10.357881Z",
     "shell.execute_reply": "2022-12-23T05:47:10.356909Z"
    },
    "papermill": {
     "duration": 0.03097,
     "end_time": "2022-12-23T05:47:10.360446",
     "exception": false,
     "start_time": "2022-12-23T05:47:10.329476",
     "status": "completed"
    },
    "tags": []
   },
   "outputs": [],
   "source": [
    "#Removing duplicates\n",
    "df=df.drop_duplicates(keep='first')"
   ]
  },
  {
   "cell_type": "code",
   "execution_count": 14,
   "id": "7b189fd9",
   "metadata": {
    "execution": {
     "iopub.execute_input": "2022-12-23T05:47:10.397516Z",
     "iopub.status.busy": "2022-12-23T05:47:10.396689Z",
     "iopub.status.idle": "2022-12-23T05:47:10.409850Z",
     "shell.execute_reply": "2022-12-23T05:47:10.408546Z"
    },
    "papermill": {
     "duration": 0.03491,
     "end_time": "2022-12-23T05:47:10.412647",
     "exception": false,
     "start_time": "2022-12-23T05:47:10.377737",
     "status": "completed"
    },
    "tags": []
   },
   "outputs": [
    {
     "data": {
      "text/plain": [
       "0"
      ]
     },
     "execution_count": 14,
     "metadata": {},
     "output_type": "execute_result"
    }
   ],
   "source": [
    "df.duplicated().sum()"
   ]
  },
  {
   "cell_type": "code",
   "execution_count": 15,
   "id": "2d6c40e5",
   "metadata": {
    "execution": {
     "iopub.execute_input": "2022-12-23T05:47:10.449382Z",
     "iopub.status.busy": "2022-12-23T05:47:10.448941Z",
     "iopub.status.idle": "2022-12-23T05:47:10.456217Z",
     "shell.execute_reply": "2022-12-23T05:47:10.455050Z"
    },
    "papermill": {
     "duration": 0.028317,
     "end_time": "2022-12-23T05:47:10.458510",
     "exception": false,
     "start_time": "2022-12-23T05:47:10.430193",
     "status": "completed"
    },
    "tags": []
   },
   "outputs": [
    {
     "data": {
      "text/plain": [
       "(5169, 2)"
      ]
     },
     "execution_count": 15,
     "metadata": {},
     "output_type": "execute_result"
    }
   ],
   "source": [
    "#shape of the df\n",
    "df.shape"
   ]
  },
  {
   "cell_type": "markdown",
   "id": "000080e6",
   "metadata": {
    "papermill": {
     "duration": 0.016794,
     "end_time": "2022-12-23T05:47:10.492574",
     "exception": false,
     "start_time": "2022-12-23T05:47:10.475780",
     "status": "completed"
    },
    "tags": []
   },
   "source": [
    "#  EDA"
   ]
  },
  {
   "cell_type": "code",
   "execution_count": 16,
   "id": "67c15643",
   "metadata": {
    "execution": {
     "iopub.execute_input": "2022-12-23T05:47:10.529357Z",
     "iopub.status.busy": "2022-12-23T05:47:10.528563Z",
     "iopub.status.idle": "2022-12-23T05:47:10.536984Z",
     "shell.execute_reply": "2022-12-23T05:47:10.535919Z"
    },
    "papermill": {
     "duration": 0.02953,
     "end_time": "2022-12-23T05:47:10.539236",
     "exception": false,
     "start_time": "2022-12-23T05:47:10.509706",
     "status": "completed"
    },
    "tags": []
   },
   "outputs": [
    {
     "data": {
      "text/plain": [
       "ham     4516\n",
       "spam     653\n",
       "Name: target, dtype: int64"
      ]
     },
     "execution_count": 16,
     "metadata": {},
     "output_type": "execute_result"
    }
   ],
   "source": [
    "df['target'].value_counts()"
   ]
  },
  {
   "cell_type": "code",
   "execution_count": 17,
   "id": "109dd87b",
   "metadata": {
    "execution": {
     "iopub.execute_input": "2022-12-23T05:47:10.576337Z",
     "iopub.status.busy": "2022-12-23T05:47:10.575917Z",
     "iopub.status.idle": "2022-12-23T05:47:10.706206Z",
     "shell.execute_reply": "2022-12-23T05:47:10.705060Z"
    },
    "papermill": {
     "duration": 0.153959,
     "end_time": "2022-12-23T05:47:10.710963",
     "exception": false,
     "start_time": "2022-12-23T05:47:10.557004",
     "status": "completed"
    },
    "tags": []
   },
   "outputs": [
    {
     "data": {
      "image/png": "[encoded data removed]",
      "text/plain": [
       "<Figure size 432x288 with 1 Axes>"
      ]
     },
     "metadata": {},
     "output_type": "display_data"
    }
   ],
   "source": [
    "import matplotlib.pyplot as plt\n",
    "plt.pie(df['target'].value_counts(),labels=['ham','spam'],autopct=\"%0.2f\")\n",
    "plt.show()"
   ]
  },
  {
   "cell_type": "markdown",
   "id": "1277ac05",
   "metadata": {
    "papermill": {
     "duration": 0.040852,
     "end_time": "2022-12-23T05:47:10.798113",
     "exception": false,
     "start_time": "2022-12-23T05:47:10.757261",
     "status": "completed"
    },
    "tags": []
   },
   "source": [
    "## 87%ham and 13%spam messages present in the dataset"
   ]
  },
  {
   "cell_type": "markdown",
   "id": "0f7439ca",
   "metadata": {
    "papermill": {
     "duration": 0.017,
     "end_time": "2022-12-23T05:47:10.833339",
     "exception": false,
     "start_time": "2022-12-23T05:47:10.816339",
     "status": "completed"
    },
    "tags": []
   },
   "source": [
    "Before building model\n",
    "I want to check the number of words,character and sentences present in the spam & ham messages\n",
    "Is there any difference?\n",
    "Let's check by using nltk library\n",
    "\n",
    "p.s:\n",
    "The Natural Language Toolkit (NLTK) is a platform used for building Python programs that work with human language data for applying in statistical natural language processing (NLP). It contains text processing libraries for tokenization, parsing, classification, stemming, tagging and semantic reasoning"
   ]
  },
  {
   "cell_type": "code",
   "execution_count": 18,
   "id": "54a5ab83",
   "metadata": {
    "execution": {
     "iopub.execute_input": "2022-12-23T05:47:10.869791Z",
     "iopub.status.busy": "2022-12-23T05:47:10.868558Z",
     "iopub.status.idle": "2022-12-23T05:47:12.877394Z",
     "shell.execute_reply": "2022-12-23T05:47:12.875994Z"
    },
    "papermill": {
     "duration": 2.032759,
     "end_time": "2022-12-23T05:47:12.883147",
     "exception": false,
     "start_time": "2022-12-23T05:47:10.850388",
     "status": "completed"
    },
    "tags": []
   },
   "outputs": [
    {
     "name": "stderr",
     "output_type": "stream",
     "text": [
      "[nltk_data] Downloading package punkt to /usr/share/nltk_data...\n",
      "[nltk_data]   Package punkt is already up-to-date!\n"
     ]
    },
    {
     "data": {
      "text/plain": [
       "True"
      ]
     },
     "execution_count": 18,
     "metadata": {},
     "output_type": "execute_result"
    }
   ],
   "source": [
    "import nltk\n",
    "nltk.download('punkt')"
   ]
  },
  {
   "cell_type": "code",
   "execution_count": 19,
   "id": "af6cf5e1",
   "metadata": {
    "execution": {
     "iopub.execute_input": "2022-12-23T05:47:12.929317Z",
     "iopub.status.busy": "2022-12-23T05:47:12.928583Z",
     "iopub.status.idle": "2022-12-23T05:47:14.427820Z",
     "shell.execute_reply": "2022-12-23T05:47:14.426954Z"
    },
    "papermill": {
     "duration": 1.525536,
     "end_time": "2022-12-23T05:47:14.430466",
     "exception": false,
     "start_time": "2022-12-23T05:47:12.904930",
     "status": "completed"
    },
    "tags": []
   },
   "outputs": [],
   "source": [
    "#Number of characters\n",
    "df['Number_of_characters']=df['text'].apply(len)\n",
    "#Num of sentences\n",
    "df['Number_of_sentences']=df['text'].apply(lambda x:len(nltk.sent_tokenize(x)))\n",
    "#Num of words\n",
    "df['Number_of_words']=df['text'].apply(lambda x:len(nltk.word_tokenize(x)))"
   ]
  },
  {
   "cell_type": "code",
   "execution_count": 20,
   "id": "fd97c984",
   "metadata": {
    "execution": {
     "iopub.execute_input": "2022-12-23T05:47:14.467711Z",
     "iopub.status.busy": "2022-12-23T05:47:14.467297Z",
     "iopub.status.idle": "2022-12-23T05:47:14.480364Z",
     "shell.execute_reply": "2022-12-23T05:47:14.479284Z"
    },
    "papermill": {
     "duration": 0.034126,
     "end_time": "2022-12-23T05:47:14.482509",
     "exception": false,
     "start_time": "2022-12-23T05:47:14.448383",
     "status": "completed"
    },
    "tags": []
   },
   "outputs": [
    {
     "data": {
      "text/html": [
       "<div>\n",
       "<style scoped>\n",
       "    .dataframe tbody tr th:only-of-type {\n",
       "        vertical-align: middle;\n",
       "    }\n",
       "\n",
       "    .dataframe tbody tr th {\n",
       "        vertical-align: top;\n",
       "    }\n",
       "\n",
       "    .dataframe thead th {\n",
       "        text-align: right;\n",
       "    }\n",
       "</style>\n",
       "<table border=\"1\" class=\"dataframe\">\n",
       "  <thead>\n",
       "    <tr style=\"text-align: right;\">\n",
       "      <th></th>\n",
       "      <th>target</th>\n",
       "      <th>text</th>\n",
       "      <th>Number_of_characters</th>\n",
       "      <th>Number_of_sentences</th>\n",
       "      <th>Number_of_words</th>\n",
       "    </tr>\n",
       "  </thead>\n",
       "  <tbody>\n",
       "    <tr>\n",
       "      <th>5037</th>\n",
       "      <td>ham</td>\n",
       "      <td>Thanks for being there for me just to talk to ...</td>\n",
       "      <td>133</td>\n",
       "      <td>3</td>\n",
       "      <td>31</td>\n",
       "    </tr>\n",
       "    <tr>\n",
       "      <th>1580</th>\n",
       "      <td>ham</td>\n",
       "      <td>I shall book chez jules for half eight, if tha...</td>\n",
       "      <td>62</td>\n",
       "      <td>1</td>\n",
       "      <td>16</td>\n",
       "    </tr>\n",
       "    <tr>\n",
       "      <th>5526</th>\n",
       "      <td>spam</td>\n",
       "      <td>PRIVATE! Your 2003 Account Statement for shows...</td>\n",
       "      <td>134</td>\n",
       "      <td>4</td>\n",
       "      <td>22</td>\n",
       "    </tr>\n",
       "    <tr>\n",
       "      <th>1969</th>\n",
       "      <td>spam</td>\n",
       "      <td>You have won a guaranteed å£200 award or even ...</td>\n",
       "      <td>133</td>\n",
       "      <td>1</td>\n",
       "      <td>27</td>\n",
       "    </tr>\n",
       "    <tr>\n",
       "      <th>438</th>\n",
       "      <td>ham</td>\n",
       "      <td>Hi hope u get this txt~journey hasnt been gd,n...</td>\n",
       "      <td>76</td>\n",
       "      <td>1</td>\n",
       "      <td>18</td>\n",
       "    </tr>\n",
       "    <tr>\n",
       "      <th>2635</th>\n",
       "      <td>ham</td>\n",
       "      <td>Tiwary to rcb.battle between bang and kochi.</td>\n",
       "      <td>44</td>\n",
       "      <td>1</td>\n",
       "      <td>8</td>\n",
       "    </tr>\n",
       "  </tbody>\n",
       "</table>\n",
       "</div>"
      ],
      "text/plain": [
       "     target                                               text  \\\n",
       "5037    ham  Thanks for being there for me just to talk to ...   \n",
       "1580    ham  I shall book chez jules for half eight, if tha...   \n",
       "5526   spam  PRIVATE! Your 2003 Account Statement for shows...   \n",
       "1969   spam  You have won a guaranteed å£200 award or even ...   \n",
       "438     ham  Hi hope u get this txt~journey hasnt been gd,n...   \n",
       "2635    ham       Tiwary to rcb.battle between bang and kochi.   \n",
       "\n",
       "      Number_of_characters  Number_of_sentences  Number_of_words  \n",
       "5037                   133                    3               31  \n",
       "1580                    62                    1               16  \n",
       "5526                   134                    4               22  \n",
       "1969                   133                    1               27  \n",
       "438                     76                    1               18  \n",
       "2635                    44                    1                8  "
      ]
     },
     "execution_count": 20,
     "metadata": {},
     "output_type": "execute_result"
    }
   ],
   "source": [
    "df.sample(6)\n",
    "#here we go!!we got all we want"
   ]
  },
  {
   "cell_type": "code",
   "execution_count": 21,
   "id": "aaaeff61",
   "metadata": {
    "execution": {
     "iopub.execute_input": "2022-12-23T05:47:14.520686Z",
     "iopub.status.busy": "2022-12-23T05:47:14.520288Z",
     "iopub.status.idle": "2022-12-23T05:47:14.543309Z",
     "shell.execute_reply": "2022-12-23T05:47:14.542311Z"
    },
    "papermill": {
     "duration": 0.045062,
     "end_time": "2022-12-23T05:47:14.545527",
     "exception": false,
     "start_time": "2022-12-23T05:47:14.500465",
     "status": "completed"
    },
    "tags": []
   },
   "outputs": [
    {
     "data": {
      "text/html": [
       "<div>\n",
       "<style scoped>\n",
       "    .dataframe tbody tr th:only-of-type {\n",
       "        vertical-align: middle;\n",
       "    }\n",
       "\n",
       "    .dataframe tbody tr th {\n",
       "        vertical-align: top;\n",
       "    }\n",
       "\n",
       "    .dataframe thead th {\n",
       "        text-align: right;\n",
       "    }\n",
       "</style>\n",
       "<table border=\"1\" class=\"dataframe\">\n",
       "  <thead>\n",
       "    <tr style=\"text-align: right;\">\n",
       "      <th></th>\n",
       "      <th>Number_of_characters</th>\n",
       "      <th>Number_of_sentences</th>\n",
       "      <th>Number_of_words</th>\n",
       "    </tr>\n",
       "  </thead>\n",
       "  <tbody>\n",
       "    <tr>\n",
       "      <th>count</th>\n",
       "      <td>5169.000000</td>\n",
       "      <td>5169.000000</td>\n",
       "      <td>5169.000000</td>\n",
       "    </tr>\n",
       "    <tr>\n",
       "      <th>mean</th>\n",
       "      <td>78.977945</td>\n",
       "      <td>1.947185</td>\n",
       "      <td>18.453279</td>\n",
       "    </tr>\n",
       "    <tr>\n",
       "      <th>std</th>\n",
       "      <td>58.236293</td>\n",
       "      <td>1.362406</td>\n",
       "      <td>13.324793</td>\n",
       "    </tr>\n",
       "    <tr>\n",
       "      <th>min</th>\n",
       "      <td>2.000000</td>\n",
       "      <td>1.000000</td>\n",
       "      <td>1.000000</td>\n",
       "    </tr>\n",
       "    <tr>\n",
       "      <th>25%</th>\n",
       "      <td>36.000000</td>\n",
       "      <td>1.000000</td>\n",
       "      <td>9.000000</td>\n",
       "    </tr>\n",
       "    <tr>\n",
       "      <th>50%</th>\n",
       "      <td>60.000000</td>\n",
       "      <td>1.000000</td>\n",
       "      <td>15.000000</td>\n",
       "    </tr>\n",
       "    <tr>\n",
       "      <th>75%</th>\n",
       "      <td>117.000000</td>\n",
       "      <td>2.000000</td>\n",
       "      <td>26.000000</td>\n",
       "    </tr>\n",
       "    <tr>\n",
       "      <th>max</th>\n",
       "      <td>910.000000</td>\n",
       "      <td>28.000000</td>\n",
       "      <td>220.000000</td>\n",
       "    </tr>\n",
       "  </tbody>\n",
       "</table>\n",
       "</div>"
      ],
      "text/plain": [
       "       Number_of_characters  Number_of_sentences  Number_of_words\n",
       "count           5169.000000          5169.000000      5169.000000\n",
       "mean              78.977945             1.947185        18.453279\n",
       "std               58.236293             1.362406        13.324793\n",
       "min                2.000000             1.000000         1.000000\n",
       "25%               36.000000             1.000000         9.000000\n",
       "50%               60.000000             1.000000        15.000000\n",
       "75%              117.000000             2.000000        26.000000\n",
       "max              910.000000            28.000000       220.000000"
      ]
     },
     "execution_count": 21,
     "metadata": {},
     "output_type": "execute_result"
    }
   ],
   "source": [
    "#Let's know more about the newly created columns\n",
    "df[['Number_of_characters','Number_of_sentences','Number_of_words']].describe()"
   ]
  },
  {
   "cell_type": "markdown",
   "id": "e538d160",
   "metadata": {
    "papermill": {
     "duration": 0.018808,
     "end_time": "2022-12-23T05:47:14.582636",
     "exception": false,
     "start_time": "2022-12-23T05:47:14.563828",
     "status": "completed"
    },
    "tags": []
   },
   "source": [
    "Ok But is there any difference in spam and ham messages\n",
    "Will do that, Once I complete label encoding of target column"
   ]
  },
  {
   "cell_type": "code",
   "execution_count": 22,
   "id": "28aa5a29",
   "metadata": {
    "execution": {
     "iopub.execute_input": "2022-12-23T05:47:14.620395Z",
     "iopub.status.busy": "2022-12-23T05:47:14.619664Z",
     "iopub.status.idle": "2022-12-23T05:47:14.626948Z",
     "shell.execute_reply": "2022-12-23T05:47:14.625828Z"
    },
    "papermill": {
     "duration": 0.028571,
     "end_time": "2022-12-23T05:47:14.628994",
     "exception": false,
     "start_time": "2022-12-23T05:47:14.600423",
     "status": "completed"
    },
    "tags": []
   },
   "outputs": [],
   "source": [
    "#Label encoding\n",
    "from sklearn.preprocessing import LabelEncoder\n",
    "encoder=LabelEncoder()\n",
    "df['target']=encoder.fit_transform(df['target'])\n",
    "#ham=0,spam=1"
   ]
  },
  {
   "cell_type": "code",
   "execution_count": 23,
   "id": "119ddfc9",
   "metadata": {
    "execution": {
     "iopub.execute_input": "2022-12-23T05:47:14.666345Z",
     "iopub.status.busy": "2022-12-23T05:47:14.665651Z",
     "iopub.status.idle": "2022-12-23T05:47:14.675591Z",
     "shell.execute_reply": "2022-12-23T05:47:14.674887Z"
    },
    "papermill": {
     "duration": 0.030847,
     "end_time": "2022-12-23T05:47:14.677594",
     "exception": false,
     "start_time": "2022-12-23T05:47:14.646747",
     "status": "completed"
    },
    "tags": []
   },
   "outputs": [
    {
     "data": {
      "text/html": [
       "<div>\n",
       "<style scoped>\n",
       "    .dataframe tbody tr th:only-of-type {\n",
       "        vertical-align: middle;\n",
       "    }\n",
       "\n",
       "    .dataframe tbody tr th {\n",
       "        vertical-align: top;\n",
       "    }\n",
       "\n",
       "    .dataframe thead th {\n",
       "        text-align: right;\n",
       "    }\n",
       "</style>\n",
       "<table border=\"1\" class=\"dataframe\">\n",
       "  <thead>\n",
       "    <tr style=\"text-align: right;\">\n",
       "      <th></th>\n",
       "      <th>target</th>\n",
       "      <th>text</th>\n",
       "      <th>Number_of_characters</th>\n",
       "      <th>Number_of_sentences</th>\n",
       "      <th>Number_of_words</th>\n",
       "    </tr>\n",
       "  </thead>\n",
       "  <tbody>\n",
       "    <tr>\n",
       "      <th>0</th>\n",
       "      <td>0</td>\n",
       "      <td>Go until jurong point, crazy.. Available only ...</td>\n",
       "      <td>111</td>\n",
       "      <td>2</td>\n",
       "      <td>24</td>\n",
       "    </tr>\n",
       "    <tr>\n",
       "      <th>1</th>\n",
       "      <td>0</td>\n",
       "      <td>Ok lar... Joking wif u oni...</td>\n",
       "      <td>29</td>\n",
       "      <td>2</td>\n",
       "      <td>8</td>\n",
       "    </tr>\n",
       "    <tr>\n",
       "      <th>2</th>\n",
       "      <td>1</td>\n",
       "      <td>Free entry in 2 a wkly comp to win FA Cup fina...</td>\n",
       "      <td>155</td>\n",
       "      <td>2</td>\n",
       "      <td>37</td>\n",
       "    </tr>\n",
       "    <tr>\n",
       "      <th>3</th>\n",
       "      <td>0</td>\n",
       "      <td>U dun say so early hor... U c already then say...</td>\n",
       "      <td>49</td>\n",
       "      <td>1</td>\n",
       "      <td>13</td>\n",
       "    </tr>\n",
       "    <tr>\n",
       "      <th>4</th>\n",
       "      <td>0</td>\n",
       "      <td>Nah I don't think he goes to usf, he lives aro...</td>\n",
       "      <td>61</td>\n",
       "      <td>1</td>\n",
       "      <td>15</td>\n",
       "    </tr>\n",
       "  </tbody>\n",
       "</table>\n",
       "</div>"
      ],
      "text/plain": [
       "   target                                               text  \\\n",
       "0       0  Go until jurong point, crazy.. Available only ...   \n",
       "1       0                      Ok lar... Joking wif u oni...   \n",
       "2       1  Free entry in 2 a wkly comp to win FA Cup fina...   \n",
       "3       0  U dun say so early hor... U c already then say...   \n",
       "4       0  Nah I don't think he goes to usf, he lives aro...   \n",
       "\n",
       "   Number_of_characters  Number_of_sentences  Number_of_words  \n",
       "0                   111                    2               24  \n",
       "1                    29                    2                8  \n",
       "2                   155                    2               37  \n",
       "3                    49                    1               13  \n",
       "4                    61                    1               15  "
      ]
     },
     "execution_count": 23,
     "metadata": {},
     "output_type": "execute_result"
    }
   ],
   "source": [
    "df.head()"
   ]
  },
  {
   "cell_type": "code",
   "execution_count": 24,
   "id": "ed08f7de",
   "metadata": {
    "execution": {
     "iopub.execute_input": "2022-12-23T05:47:14.716339Z",
     "iopub.status.busy": "2022-12-23T05:47:14.715655Z",
     "iopub.status.idle": "2022-12-23T05:47:14.736670Z",
     "shell.execute_reply": "2022-12-23T05:47:14.735895Z"
    },
    "papermill": {
     "duration": 0.042592,
     "end_time": "2022-12-23T05:47:14.738863",
     "exception": false,
     "start_time": "2022-12-23T05:47:14.696271",
     "status": "completed"
    },
    "tags": []
   },
   "outputs": [
    {
     "data": {
      "text/html": [
       "<div>\n",
       "<style scoped>\n",
       "    .dataframe tbody tr th:only-of-type {\n",
       "        vertical-align: middle;\n",
       "    }\n",
       "\n",
       "    .dataframe tbody tr th {\n",
       "        vertical-align: top;\n",
       "    }\n",
       "\n",
       "    .dataframe thead th {\n",
       "        text-align: right;\n",
       "    }\n",
       "</style>\n",
       "<table border=\"1\" class=\"dataframe\">\n",
       "  <thead>\n",
       "    <tr style=\"text-align: right;\">\n",
       "      <th></th>\n",
       "      <th>Number_of_characters</th>\n",
       "      <th>Number_of_sentences</th>\n",
       "      <th>Number_of_words</th>\n",
       "    </tr>\n",
       "  </thead>\n",
       "  <tbody>\n",
       "    <tr>\n",
       "      <th>count</th>\n",
       "      <td>4516.000000</td>\n",
       "      <td>4516.000000</td>\n",
       "      <td>4516.000000</td>\n",
       "    </tr>\n",
       "    <tr>\n",
       "      <th>mean</th>\n",
       "      <td>70.459256</td>\n",
       "      <td>1.799601</td>\n",
       "      <td>17.120903</td>\n",
       "    </tr>\n",
       "    <tr>\n",
       "      <th>std</th>\n",
       "      <td>56.358207</td>\n",
       "      <td>1.278465</td>\n",
       "      <td>13.493725</td>\n",
       "    </tr>\n",
       "    <tr>\n",
       "      <th>min</th>\n",
       "      <td>2.000000</td>\n",
       "      <td>1.000000</td>\n",
       "      <td>1.000000</td>\n",
       "    </tr>\n",
       "    <tr>\n",
       "      <th>25%</th>\n",
       "      <td>34.000000</td>\n",
       "      <td>1.000000</td>\n",
       "      <td>8.000000</td>\n",
       "    </tr>\n",
       "    <tr>\n",
       "      <th>50%</th>\n",
       "      <td>52.000000</td>\n",
       "      <td>1.000000</td>\n",
       "      <td>13.000000</td>\n",
       "    </tr>\n",
       "    <tr>\n",
       "      <th>75%</th>\n",
       "      <td>90.000000</td>\n",
       "      <td>2.000000</td>\n",
       "      <td>22.000000</td>\n",
       "    </tr>\n",
       "    <tr>\n",
       "      <th>max</th>\n",
       "      <td>910.000000</td>\n",
       "      <td>28.000000</td>\n",
       "      <td>220.000000</td>\n",
       "    </tr>\n",
       "  </tbody>\n",
       "</table>\n",
       "</div>"
      ],
      "text/plain": [
       "       Number_of_characters  Number_of_sentences  Number_of_words\n",
       "count           4516.000000          4516.000000      4516.000000\n",
       "mean              70.459256             1.799601        17.120903\n",
       "std               56.358207             1.278465        13.493725\n",
       "min                2.000000             1.000000         1.000000\n",
       "25%               34.000000             1.000000         8.000000\n",
       "50%               52.000000             1.000000        13.000000\n",
       "75%               90.000000             2.000000        22.000000\n",
       "max              910.000000            28.000000       220.000000"
      ]
     },
     "execution_count": 24,
     "metadata": {},
     "output_type": "execute_result"
    }
   ],
   "source": [
    "#ham messages summary\n",
    "df[df['target']==0][['Number_of_characters','Number_of_sentences','Number_of_words']].describe()"
   ]
  },
  {
   "cell_type": "code",
   "execution_count": 25,
   "id": "881e41ca",
   "metadata": {
    "execution": {
     "iopub.execute_input": "2022-12-23T05:47:14.778138Z",
     "iopub.status.busy": "2022-12-23T05:47:14.777431Z",
     "iopub.status.idle": "2022-12-23T05:47:14.798439Z",
     "shell.execute_reply": "2022-12-23T05:47:14.797285Z"
    },
    "papermill": {
     "duration": 0.043364,
     "end_time": "2022-12-23T05:47:14.801153",
     "exception": false,
     "start_time": "2022-12-23T05:47:14.757789",
     "status": "completed"
    },
    "tags": []
   },
   "outputs": [
    {
     "data": {
      "text/html": [
       "<div>\n",
       "<style scoped>\n",
       "    .dataframe tbody tr th:only-of-type {\n",
       "        vertical-align: middle;\n",
       "    }\n",
       "\n",
       "    .dataframe tbody tr th {\n",
       "        vertical-align: top;\n",
       "    }\n",
       "\n",
       "    .dataframe thead th {\n",
       "        text-align: right;\n",
       "    }\n",
       "</style>\n",
       "<table border=\"1\" class=\"dataframe\">\n",
       "  <thead>\n",
       "    <tr style=\"text-align: right;\">\n",
       "      <th></th>\n",
       "      <th>Number_of_characters</th>\n",
       "      <th>Number_of_sentences</th>\n",
       "      <th>Number_of_words</th>\n",
       "    </tr>\n",
       "  </thead>\n",
       "  <tbody>\n",
       "    <tr>\n",
       "      <th>count</th>\n",
       "      <td>653.000000</td>\n",
       "      <td>653.000000</td>\n",
       "      <td>653.000000</td>\n",
       "    </tr>\n",
       "    <tr>\n",
       "      <th>mean</th>\n",
       "      <td>137.891271</td>\n",
       "      <td>2.967841</td>\n",
       "      <td>27.667688</td>\n",
       "    </tr>\n",
       "    <tr>\n",
       "      <th>std</th>\n",
       "      <td>30.137753</td>\n",
       "      <td>1.483201</td>\n",
       "      <td>7.008418</td>\n",
       "    </tr>\n",
       "    <tr>\n",
       "      <th>min</th>\n",
       "      <td>13.000000</td>\n",
       "      <td>1.000000</td>\n",
       "      <td>2.000000</td>\n",
       "    </tr>\n",
       "    <tr>\n",
       "      <th>25%</th>\n",
       "      <td>132.000000</td>\n",
       "      <td>2.000000</td>\n",
       "      <td>25.000000</td>\n",
       "    </tr>\n",
       "    <tr>\n",
       "      <th>50%</th>\n",
       "      <td>149.000000</td>\n",
       "      <td>3.000000</td>\n",
       "      <td>29.000000</td>\n",
       "    </tr>\n",
       "    <tr>\n",
       "      <th>75%</th>\n",
       "      <td>157.000000</td>\n",
       "      <td>4.000000</td>\n",
       "      <td>32.000000</td>\n",
       "    </tr>\n",
       "    <tr>\n",
       "      <th>max</th>\n",
       "      <td>224.000000</td>\n",
       "      <td>8.000000</td>\n",
       "      <td>46.000000</td>\n",
       "    </tr>\n",
       "  </tbody>\n",
       "</table>\n",
       "</div>"
      ],
      "text/plain": [
       "       Number_of_characters  Number_of_sentences  Number_of_words\n",
       "count            653.000000           653.000000       653.000000\n",
       "mean             137.891271             2.967841        27.667688\n",
       "std               30.137753             1.483201         7.008418\n",
       "min               13.000000             1.000000         2.000000\n",
       "25%              132.000000             2.000000        25.000000\n",
       "50%              149.000000             3.000000        29.000000\n",
       "75%              157.000000             4.000000        32.000000\n",
       "max              224.000000             8.000000        46.000000"
      ]
     },
     "execution_count": 25,
     "metadata": {},
     "output_type": "execute_result"
    }
   ],
   "source": [
    "#Spam messages summary\n",
    "df[df['target']==1][['Number_of_characters','Number_of_sentences','Number_of_words']].describe()"
   ]
  },
  {
   "cell_type": "markdown",
   "id": "4350ac99",
   "metadata": {
    "papermill": {
     "duration": 0.018239,
     "end_time": "2022-12-23T05:47:14.838662",
     "exception": false,
     "start_time": "2022-12-23T05:47:14.820423",
     "status": "completed"
    },
    "tags": []
   },
   "source": [
    "## Spam messages found to lengthier than ham messages!!Ola!!"
   ]
  },
  {
   "cell_type": "markdown",
   "id": "b12b6399",
   "metadata": {
    "papermill": {
     "duration": 0.018197,
     "end_time": "2022-12-23T05:47:14.875231",
     "exception": false,
     "start_time": "2022-12-23T05:47:14.857034",
     "status": "completed"
    },
    "tags": []
   },
   "source": [
    "Now it's time to check the distribution"
   ]
  },
  {
   "cell_type": "code",
   "execution_count": 26,
   "id": "44ff00d2",
   "metadata": {
    "execution": {
     "iopub.execute_input": "2022-12-23T05:47:14.914586Z",
     "iopub.status.busy": "2022-12-23T05:47:14.914205Z",
     "iopub.status.idle": "2022-12-23T05:47:15.654964Z",
     "shell.execute_reply": "2022-12-23T05:47:15.653839Z"
    },
    "papermill": {
     "duration": 0.763737,
     "end_time": "2022-12-23T05:47:15.657607",
     "exception": false,
     "start_time": "2022-12-23T05:47:14.893870",
     "status": "completed"
    },
    "tags": []
   },
   "outputs": [
    {
     "data": {
      "text/plain": [
       "<AxesSubplot:xlabel='Number_of_words', ylabel='Count'>"
      ]
     },
     "execution_count": 26,
     "metadata": {},
     "output_type": "execute_result"
    },
    {
     "data": {
      "image/png": "[encoded data removed]",
      "text/plain": [
       "<Figure size 720x576 with 1 Axes>"
      ]
     },
     "metadata": {
      "needs_background": "light"
     },
     "output_type": "display_data"
    }
   ],
   "source": [
    "import seaborn as sns\n",
    "plt.figure(figsize=(10,8))\n",
    "sns.histplot(df[df['target']==0]['Number_of_words'])\n",
    "sns.histplot(df[df['target']==1]['Number_of_words'],color='red')"
   ]
  },
  {
   "cell_type": "code",
   "execution_count": 27,
   "id": "c401c584",
   "metadata": {
    "execution": {
     "iopub.execute_input": "2022-12-23T05:47:15.698284Z",
     "iopub.status.busy": "2022-12-23T05:47:15.697851Z",
     "iopub.status.idle": "2022-12-23T05:47:20.643828Z",
     "shell.execute_reply": "2022-12-23T05:47:20.642575Z"
    },
    "papermill": {
     "duration": 4.970009,
     "end_time": "2022-12-23T05:47:20.646855",
     "exception": false,
     "start_time": "2022-12-23T05:47:15.676846",
     "status": "completed"
    },
    "tags": []
   },
   "outputs": [
    {
     "data": {
      "text/plain": [
       "<seaborn.axisgrid.PairGrid at 0x7fac4586b290>"
      ]
     },
     "execution_count": 27,
     "metadata": {},
     "output_type": "execute_result"
    },
    {
     "data": {
      "image/png": "[encoded data removed]",
      "text/plain": [
       "<Figure size 582.375x540 with 12 Axes>"
      ]
     },
     "metadata": {
      "needs_background": "light"
     },
     "output_type": "display_data"
    }
   ],
   "source": [
    "# Pair plot\n",
    "sns.pairplot(df,hue='target')"
   ]
  },
  {
   "cell_type": "markdown",
   "id": "789e5d93",
   "metadata": {
    "papermill": {
     "duration": 0.020493,
     "end_time": "2022-12-23T05:47:20.688188",
     "exception": false,
     "start_time": "2022-12-23T05:47:20.667695",
     "status": "completed"
    },
    "tags": []
   },
   "source": [
    "all are having some correlation but let's check the same in value mode through heatmap"
   ]
  },
  {
   "cell_type": "code",
   "execution_count": 28,
   "id": "1a6e994e",
   "metadata": {
    "execution": {
     "iopub.execute_input": "2022-12-23T05:47:20.732165Z",
     "iopub.status.busy": "2022-12-23T05:47:20.731788Z",
     "iopub.status.idle": "2022-12-23T05:47:21.073839Z",
     "shell.execute_reply": "2022-12-23T05:47:21.072676Z"
    },
    "papermill": {
     "duration": 0.367323,
     "end_time": "2022-12-23T05:47:21.076308",
     "exception": false,
     "start_time": "2022-12-23T05:47:20.708985",
     "status": "completed"
    },
    "tags": []
   },
   "outputs": [
    {
     "data": {
      "text/plain": [
       "<AxesSubplot:>"
      ]
     },
     "execution_count": 28,
     "metadata": {},
     "output_type": "execute_result"
    },
    {
     "data": {
      "image/png": "[encoded data removed]",
      "text/plain": [
       "<Figure size 432x288 with 2 Axes>"
      ]
     },
     "metadata": {
      "needs_background": "light"
     },
     "output_type": "display_data"
    }
   ],
   "source": [
    "sns.heatmap(df.corr(),annot=True)"
   ]
  },
  {
   "cell_type": "markdown",
   "id": "8679136b",
   "metadata": {
    "papermill": {
     "duration": 0.021663,
     "end_time": "2022-12-23T05:47:21.119465",
     "exception": false,
     "start_time": "2022-12-23T05:47:21.097802",
     "status": "completed"
    },
    "tags": []
   },
   "source": [
    "##### There is multi collinearity between Number of sentences,words,characters\n",
    "##### What do you think which one we shall chose for further process\n",
    "\n",
    "#####  I am choosing Number of characters column as it has more spread(0.38)"
   ]
  },
  {
   "cell_type": "markdown",
   "id": "5a84af4b",
   "metadata": {
    "papermill": {
     "duration": 0.020853,
     "end_time": "2022-12-23T05:47:21.161653",
     "exception": false,
     "start_time": "2022-12-23T05:47:21.140800",
     "status": "completed"
    },
    "tags": []
   },
   "source": [
    "> # Data preprocessing"
   ]
  },
  {
   "cell_type": "markdown",
   "id": "7c7260ba",
   "metadata": {
    "papermill": {
     "duration": 0.021052,
     "end_time": "2022-12-23T05:47:21.203662",
     "exception": false,
     "start_time": "2022-12-23T05:47:21.182610",
     "status": "completed"
    },
    "tags": []
   },
   "source": [
    "* Steps to be followed\n",
    "    * Lower case\n",
    "    * Tokenization\n",
    "    * Removing special characters\n",
    "    * Removing stopwords and punctuations\n",
    "    * Stemming"
   ]
  },
  {
   "cell_type": "markdown",
   "id": "8a04612b",
   "metadata": {
    "papermill": {
     "duration": 0.020933,
     "end_time": "2022-12-23T05:47:21.246401",
     "exception": false,
     "start_time": "2022-12-23T05:47:21.225468",
     "status": "completed"
    },
    "tags": []
   },
   "source": [
    "NLP"
   ]
  },
  {
   "cell_type": "code",
   "execution_count": 29,
   "id": "260b43a0",
   "metadata": {
    "execution": {
     "iopub.execute_input": "2022-12-23T05:47:21.291465Z",
     "iopub.status.busy": "2022-12-23T05:47:21.291012Z",
     "iopub.status.idle": "2022-12-23T05:47:21.296507Z",
     "shell.execute_reply": "2022-12-23T05:47:21.295271Z"
    },
    "papermill": {
     "duration": 0.031113,
     "end_time": "2022-12-23T05:47:21.298904",
     "exception": false,
     "start_time": "2022-12-23T05:47:21.267791",
     "status": "completed"
    },
    "tags": []
   },
   "outputs": [],
   "source": [
    "from nltk.stem.porter import PorterStemmer\n",
    "ps=PorterStemmer()"
   ]
  },
  {
   "cell_type": "code",
   "execution_count": 30,
   "id": "6a37c761",
   "metadata": {
    "execution": {
     "iopub.execute_input": "2022-12-23T05:47:21.343848Z",
     "iopub.status.busy": "2022-12-23T05:47:21.343444Z",
     "iopub.status.idle": "2022-12-23T05:47:21.350978Z",
     "shell.execute_reply": "2022-12-23T05:47:21.349869Z"
    },
    "papermill": {
     "duration": 0.032955,
     "end_time": "2022-12-23T05:47:21.353487",
     "exception": false,
     "start_time": "2022-12-23T05:47:21.320532",
     "status": "completed"
    },
    "tags": []
   },
   "outputs": [],
   "source": [
    "def transform_text(text):\n",
    "    text=text.lower()#converting to lower case\n",
    "    text=nltk.word_tokenize(text)#breaking the sentence to words\n",
    "    a=[]\n",
    "    for i in text:#To remove special charcters\n",
    "        if i.isalnum():#To keep alphanumerica and alphacharcters only\n",
    "            a.append(i)\n",
    "    text=a[:]#cloning to attach list \n",
    "    a.clear()\n",
    "    for i in text:\n",
    "        if i not in stopwords.words('english') and i not in string.punctuation:\n",
    "            a.append(i)\n",
    "    text=a[:]\n",
    "    a.clear()\n",
    "    for i in text:\n",
    "        a.append(ps.stem(i))#stemming-before loving after love\n",
    "    return \" \".join(a)#to join all the stemmed words"
   ]
  },
  {
   "cell_type": "code",
   "execution_count": 31,
   "id": "85089845",
   "metadata": {
    "execution": {
     "iopub.execute_input": "2022-12-23T05:47:21.397464Z",
     "iopub.status.busy": "2022-12-23T05:47:21.397090Z",
     "iopub.status.idle": "2022-12-23T05:47:21.440378Z",
     "shell.execute_reply": "2022-12-23T05:47:21.439072Z"
    },
    "papermill": {
     "duration": 0.068322,
     "end_time": "2022-12-23T05:47:21.442920",
     "exception": false,
     "start_time": "2022-12-23T05:47:21.374598",
     "status": "completed"
    },
    "tags": []
   },
   "outputs": [
    {
     "data": {
      "text/plain": [
       "['i',\n",
       " 'me',\n",
       " 'my',\n",
       " 'myself',\n",
       " 'we',\n",
       " 'our',\n",
       " 'ours',\n",
       " 'ourselves',\n",
       " 'you',\n",
       " \"you're\",\n",
       " \"you've\",\n",
       " \"you'll\",\n",
       " \"you'd\",\n",
       " 'your',\n",
       " 'yours',\n",
       " 'yourself',\n",
       " 'yourselves',\n",
       " 'he',\n",
       " 'him',\n",
       " 'his',\n",
       " 'himself',\n",
       " 'she',\n",
       " \"she's\",\n",
       " 'her',\n",
       " 'hers',\n",
       " 'herself',\n",
       " 'it',\n",
       " \"it's\",\n",
       " 'its',\n",
       " 'itself',\n",
       " 'they',\n",
       " 'them',\n",
       " 'their',\n",
       " 'theirs',\n",
       " 'themselves',\n",
       " 'what',\n",
       " 'which',\n",
       " 'who',\n",
       " 'whom',\n",
       " 'this',\n",
       " 'that',\n",
       " \"that'll\",\n",
       " 'these',\n",
       " 'those',\n",
       " 'am',\n",
       " 'is',\n",
       " 'are',\n",
       " 'was',\n",
       " 'were',\n",
       " 'be',\n",
       " 'been',\n",
       " 'being',\n",
       " 'have',\n",
       " 'has',\n",
       " 'had',\n",
       " 'having',\n",
       " 'do',\n",
       " 'does',\n",
       " 'did',\n",
       " 'doing',\n",
       " 'a',\n",
       " 'an',\n",
       " 'the',\n",
       " 'and',\n",
       " 'but',\n",
       " 'if',\n",
       " 'or',\n",
       " 'because',\n",
       " 'as',\n",
       " 'until',\n",
       " 'while',\n",
       " 'of',\n",
       " 'at',\n",
       " 'by',\n",
       " 'for',\n",
       " 'with',\n",
       " 'about',\n",
       " 'against',\n",
       " 'between',\n",
       " 'into',\n",
       " 'through',\n",
       " 'during',\n",
       " 'before',\n",
       " 'after',\n",
       " 'above',\n",
       " 'below',\n",
       " 'to',\n",
       " 'from',\n",
       " 'up',\n",
       " 'down',\n",
       " 'in',\n",
       " 'out',\n",
       " 'on',\n",
       " 'off',\n",
       " 'over',\n",
       " 'under',\n",
       " 'again',\n",
       " 'further',\n",
       " 'then',\n",
       " 'once',\n",
       " 'here',\n",
       " 'there',\n",
       " 'when',\n",
       " 'where',\n",
       " 'why',\n",
       " 'how',\n",
       " 'all',\n",
       " 'any',\n",
       " 'both',\n",
       " 'each',\n",
       " 'few',\n",
       " 'more',\n",
       " 'most',\n",
       " 'other',\n",
       " 'some',\n",
       " 'such',\n",
       " 'no',\n",
       " 'nor',\n",
       " 'not',\n",
       " 'only',\n",
       " 'own',\n",
       " 'same',\n",
       " 'so',\n",
       " 'than',\n",
       " 'too',\n",
       " 'very',\n",
       " 's',\n",
       " 't',\n",
       " 'can',\n",
       " 'will',\n",
       " 'just',\n",
       " 'don',\n",
       " \"don't\",\n",
       " 'should',\n",
       " \"should've\",\n",
       " 'now',\n",
       " 'd',\n",
       " 'll',\n",
       " 'm',\n",
       " 'o',\n",
       " 're',\n",
       " 've',\n",
       " 'y',\n",
       " 'ain',\n",
       " 'aren',\n",
       " \"aren't\",\n",
       " 'couldn',\n",
       " \"couldn't\",\n",
       " 'didn',\n",
       " \"didn't\",\n",
       " 'doesn',\n",
       " \"doesn't\",\n",
       " 'hadn',\n",
       " \"hadn't\",\n",
       " 'hasn',\n",
       " \"hasn't\",\n",
       " 'haven',\n",
       " \"haven't\",\n",
       " 'isn',\n",
       " \"isn't\",\n",
       " 'ma',\n",
       " 'mightn',\n",
       " \"mightn't\",\n",
       " 'mustn',\n",
       " \"mustn't\",\n",
       " 'needn',\n",
       " \"needn't\",\n",
       " 'shan',\n",
       " \"shan't\",\n",
       " 'shouldn',\n",
       " \"shouldn't\",\n",
       " 'wasn',\n",
       " \"wasn't\",\n",
       " 'weren',\n",
       " \"weren't\",\n",
       " 'won',\n",
       " \"won't\",\n",
       " 'wouldn',\n",
       " \"wouldn't\"]"
      ]
     },
     "execution_count": 31,
     "metadata": {},
     "output_type": "execute_result"
    }
   ],
   "source": [
    "#To check stopwords in english language\n",
    "from nltk.corpus import stopwords\n",
    "stopwords.words('english')"
   ]
  },
  {
   "cell_type": "code",
   "execution_count": 32,
   "id": "d45d8549",
   "metadata": {
    "execution": {
     "iopub.execute_input": "2022-12-23T05:47:21.487176Z",
     "iopub.status.busy": "2022-12-23T05:47:21.486704Z",
     "iopub.status.idle": "2022-12-23T05:47:21.493540Z",
     "shell.execute_reply": "2022-12-23T05:47:21.492340Z"
    },
    "papermill": {
     "duration": 0.031709,
     "end_time": "2022-12-23T05:47:21.495994",
     "exception": false,
     "start_time": "2022-12-23T05:47:21.464285",
     "status": "completed"
    },
    "tags": []
   },
   "outputs": [
    {
     "data": {
      "text/plain": [
       "'!\"#$%&\\'()*+,-./:;<=>?@[\\\\]^_`{|}~'"
      ]
     },
     "execution_count": 32,
     "metadata": {},
     "output_type": "execute_result"
    }
   ],
   "source": [
    "#To check various strings\n",
    "import string\n",
    "string.punctuation"
   ]
  },
  {
   "cell_type": "code",
   "execution_count": 33,
   "id": "8c554f22",
   "metadata": {
    "execution": {
     "iopub.execute_input": "2022-12-23T05:47:21.541411Z",
     "iopub.status.busy": "2022-12-23T05:47:21.541029Z",
     "iopub.status.idle": "2022-12-23T05:47:21.550761Z",
     "shell.execute_reply": "2022-12-23T05:47:21.549657Z"
    },
    "papermill": {
     "duration": 0.035838,
     "end_time": "2022-12-23T05:47:21.553212",
     "exception": false,
     "start_time": "2022-12-23T05:47:21.517374",
     "status": "completed"
    },
    "tags": []
   },
   "outputs": [
    {
     "data": {
      "text/plain": [
       "'go hyderabad come'"
      ]
     },
     "execution_count": 33,
     "metadata": {},
     "output_type": "execute_result"
    }
   ],
   "source": [
    "#check whether function is working\n",
    "transform_text(\"I am going to hyderabad. Will you come with me\")"
   ]
  },
  {
   "cell_type": "code",
   "execution_count": 34,
   "id": "affa02e8",
   "metadata": {
    "execution": {
     "iopub.execute_input": "2022-12-23T05:47:21.598546Z",
     "iopub.status.busy": "2022-12-23T05:47:21.597632Z",
     "iopub.status.idle": "2022-12-23T05:47:21.604675Z",
     "shell.execute_reply": "2022-12-23T05:47:21.603580Z"
    },
    "papermill": {
     "duration": 0.032145,
     "end_time": "2022-12-23T05:47:21.606916",
     "exception": false,
     "start_time": "2022-12-23T05:47:21.574771",
     "status": "completed"
    },
    "tags": []
   },
   "outputs": [
    {
     "data": {
      "text/plain": [
       "'love'"
      ]
     },
     "execution_count": 34,
     "metadata": {},
     "output_type": "execute_result"
    }
   ],
   "source": [
    "#checking stemming\n",
    "ps.stem(\"lovings\")"
   ]
  },
  {
   "cell_type": "code",
   "execution_count": 35,
   "id": "49c1e56b",
   "metadata": {
    "execution": {
     "iopub.execute_input": "2022-12-23T05:47:21.653176Z",
     "iopub.status.busy": "2022-12-23T05:47:21.652770Z",
     "iopub.status.idle": "2022-12-23T05:47:21.666819Z",
     "shell.execute_reply": "2022-12-23T05:47:21.664694Z"
    },
    "papermill": {
     "duration": 0.040967,
     "end_time": "2022-12-23T05:47:21.669824",
     "exception": false,
     "start_time": "2022-12-23T05:47:21.628857",
     "status": "completed"
    },
    "tags": []
   },
   "outputs": [
    {
     "name": "stdout",
     "output_type": "stream",
     "text": [
      "I'm gonna be home soon and i don't want to talk about this stuff anymore tonight, k? I've cried enough today.\n"
     ]
    },
    {
     "data": {
      "text/plain": [
       "'gon na home soon want talk stuff anymor tonight k cri enough today'"
      ]
     },
     "execution_count": 35,
     "metadata": {},
     "output_type": "execute_result"
    }
   ],
   "source": [
    "print(df['text'][10])\n",
    "#check the the function after nltk\n",
    "transform_text(\"I'm gonna be home soon and i don't want to talk about this stuff anymore tonight, k? I've cried enough today.\")"
   ]
  },
  {
   "cell_type": "code",
   "execution_count": 36,
   "id": "d6aa5fbc",
   "metadata": {
    "execution": {
     "iopub.execute_input": "2022-12-23T05:47:21.717413Z",
     "iopub.status.busy": "2022-12-23T05:47:21.717047Z",
     "iopub.status.idle": "2022-12-23T05:47:35.385329Z",
     "shell.execute_reply": "2022-12-23T05:47:35.384221Z"
    },
    "papermill": {
     "duration": 13.694517,
     "end_time": "2022-12-23T05:47:35.388083",
     "exception": false,
     "start_time": "2022-12-23T05:47:21.693566",
     "status": "completed"
    },
    "tags": []
   },
   "outputs": [],
   "source": [
    "#Let's create new column and add all these transformed data\n",
    "df['transformed_text']=df['text'].apply(transform_text)"
   ]
  },
  {
   "cell_type": "code",
   "execution_count": 37,
   "id": "4ade7cee",
   "metadata": {
    "execution": {
     "iopub.execute_input": "2022-12-23T05:47:35.433648Z",
     "iopub.status.busy": "2022-12-23T05:47:35.433233Z",
     "iopub.status.idle": "2022-12-23T05:47:35.445753Z",
     "shell.execute_reply": "2022-12-23T05:47:35.444606Z"
    },
    "papermill": {
     "duration": 0.038046,
     "end_time": "2022-12-23T05:47:35.448025",
     "exception": false,
     "start_time": "2022-12-23T05:47:35.409979",
     "status": "completed"
    },
    "tags": []
   },
   "outputs": [
    {
     "data": {
      "text/html": [
       "<div>\n",
       "<style scoped>\n",
       "    .dataframe tbody tr th:only-of-type {\n",
       "        vertical-align: middle;\n",
       "    }\n",
       "\n",
       "    .dataframe tbody tr th {\n",
       "        vertical-align: top;\n",
       "    }\n",
       "\n",
       "    .dataframe thead th {\n",
       "        text-align: right;\n",
       "    }\n",
       "</style>\n",
       "<table border=\"1\" class=\"dataframe\">\n",
       "  <thead>\n",
       "    <tr style=\"text-align: right;\">\n",
       "      <th></th>\n",
       "      <th>target</th>\n",
       "      <th>text</th>\n",
       "      <th>Number_of_characters</th>\n",
       "      <th>Number_of_sentences</th>\n",
       "      <th>Number_of_words</th>\n",
       "      <th>transformed_text</th>\n",
       "    </tr>\n",
       "  </thead>\n",
       "  <tbody>\n",
       "    <tr>\n",
       "      <th>0</th>\n",
       "      <td>0</td>\n",
       "      <td>Go until jurong point, crazy.. Available only ...</td>\n",
       "      <td>111</td>\n",
       "      <td>2</td>\n",
       "      <td>24</td>\n",
       "      <td>go jurong point crazi avail bugi n great world...</td>\n",
       "    </tr>\n",
       "    <tr>\n",
       "      <th>1</th>\n",
       "      <td>0</td>\n",
       "      <td>Ok lar... Joking wif u oni...</td>\n",
       "      <td>29</td>\n",
       "      <td>2</td>\n",
       "      <td>8</td>\n",
       "      <td>ok lar joke wif u oni</td>\n",
       "    </tr>\n",
       "    <tr>\n",
       "      <th>2</th>\n",
       "      <td>1</td>\n",
       "      <td>Free entry in 2 a wkly comp to win FA Cup fina...</td>\n",
       "      <td>155</td>\n",
       "      <td>2</td>\n",
       "      <td>37</td>\n",
       "      <td>free entri 2 wkli comp win fa cup final tkt 21...</td>\n",
       "    </tr>\n",
       "    <tr>\n",
       "      <th>3</th>\n",
       "      <td>0</td>\n",
       "      <td>U dun say so early hor... U c already then say...</td>\n",
       "      <td>49</td>\n",
       "      <td>1</td>\n",
       "      <td>13</td>\n",
       "      <td>u dun say earli hor u c alreadi say</td>\n",
       "    </tr>\n",
       "    <tr>\n",
       "      <th>4</th>\n",
       "      <td>0</td>\n",
       "      <td>Nah I don't think he goes to usf, he lives aro...</td>\n",
       "      <td>61</td>\n",
       "      <td>1</td>\n",
       "      <td>15</td>\n",
       "      <td>nah think goe usf live around though</td>\n",
       "    </tr>\n",
       "  </tbody>\n",
       "</table>\n",
       "</div>"
      ],
      "text/plain": [
       "   target                                               text  \\\n",
       "0       0  Go until jurong point, crazy.. Available only ...   \n",
       "1       0                      Ok lar... Joking wif u oni...   \n",
       "2       1  Free entry in 2 a wkly comp to win FA Cup fina...   \n",
       "3       0  U dun say so early hor... U c already then say...   \n",
       "4       0  Nah I don't think he goes to usf, he lives aro...   \n",
       "\n",
       "   Number_of_characters  Number_of_sentences  Number_of_words  \\\n",
       "0                   111                    2               24   \n",
       "1                    29                    2                8   \n",
       "2                   155                    2               37   \n",
       "3                    49                    1               13   \n",
       "4                    61                    1               15   \n",
       "\n",
       "                                    transformed_text  \n",
       "0  go jurong point crazi avail bugi n great world...  \n",
       "1                              ok lar joke wif u oni  \n",
       "2  free entri 2 wkli comp win fa cup final tkt 21...  \n",
       "3                u dun say earli hor u c alreadi say  \n",
       "4               nah think goe usf live around though  "
      ]
     },
     "execution_count": 37,
     "metadata": {},
     "output_type": "execute_result"
    }
   ],
   "source": [
    "df.head()"
   ]
  },
  {
   "cell_type": "code",
   "execution_count": 38,
   "id": "37594724",
   "metadata": {
    "execution": {
     "iopub.execute_input": "2022-12-23T05:47:35.494031Z",
     "iopub.status.busy": "2022-12-23T05:47:35.493585Z",
     "iopub.status.idle": "2022-12-23T05:47:36.232285Z",
     "shell.execute_reply": "2022-12-23T05:47:36.231100Z"
    },
    "papermill": {
     "duration": 0.765689,
     "end_time": "2022-12-23T05:47:36.236166",
     "exception": false,
     "start_time": "2022-12-23T05:47:35.470477",
     "status": "completed"
    },
    "tags": []
   },
   "outputs": [
    {
     "name": "stdout",
     "output_type": "stream",
     "text": [
      "Most used words in spam messages\n"
     ]
    },
    {
     "data": {
      "image/png": "[encoded data removed]",
      "text/plain": [
       "<Figure size 1152x576 with 1 Axes>"
      ]
     },
     "metadata": {
      "needs_background": "light"
     },
     "output_type": "display_data"
    }
   ],
   "source": [
    "#Before building I want to check what are top most words used in the messages\n",
    "#Using word cloud let's check the most using words in ham and spam messages\n",
    "from wordcloud import WordCloud\n",
    "wc=WordCloud(width=500,height=500,min_font_size=10,background_color='white')\n",
    "spam_wc=wc.generate(df[df['target']==1]['transformed_text'].str.cat(sep=\" \"))\n",
    "plt.figure(figsize=(16,8))\n",
    "plt.imshow(spam_wc)\n",
    "print(\"Most used words in spam messages\")"
   ]
  },
  {
   "cell_type": "code",
   "execution_count": 39,
   "id": "9c6cb73a",
   "metadata": {
    "execution": {
     "iopub.execute_input": "2022-12-23T05:47:36.287433Z",
     "iopub.status.busy": "2022-12-23T05:47:36.286792Z",
     "iopub.status.idle": "2022-12-23T05:47:37.543861Z",
     "shell.execute_reply": "2022-12-23T05:47:37.543019Z"
    },
    "papermill": {
     "duration": 1.287414,
     "end_time": "2022-12-23T05:47:37.548484",
     "exception": false,
     "start_time": "2022-12-23T05:47:36.261070",
     "status": "completed"
    },
    "tags": []
   },
   "outputs": [
    {
     "name": "stdout",
     "output_type": "stream",
     "text": [
      "Most used words in ham messages\n"
     ]
    },
    {
     "data": {
      "image/png": "[encoded data removed]",
      "text/plain": [
       "<Figure size 1152x576 with 1 Axes>"
      ]
     },
     "metadata": {
      "needs_background": "light"
     },
     "output_type": "display_data"
    }
   ],
   "source": [
    "ham_wc=wc.generate(df[df['target']==0]['transformed_text'].str.cat(sep=\" \"))\n",
    "plt.figure(figsize=(16,8))\n",
    "plt.imshow(ham_wc)\n",
    "print(\"Most used words in ham messages\")"
   ]
  },
  {
   "cell_type": "code",
   "execution_count": 40,
   "id": "dc9692a1",
   "metadata": {
    "execution": {
     "iopub.execute_input": "2022-12-23T05:47:37.608870Z",
     "iopub.status.busy": "2022-12-23T05:47:37.608388Z",
     "iopub.status.idle": "2022-12-23T05:47:37.999648Z",
     "shell.execute_reply": "2022-12-23T05:47:37.998504Z"
    },
    "papermill": {
     "duration": 0.423654,
     "end_time": "2022-12-23T05:47:38.001923",
     "exception": false,
     "start_time": "2022-12-23T05:47:37.578269",
     "status": "completed"
    },
    "tags": []
   },
   "outputs": [
    {
     "name": "stderr",
     "output_type": "stream",
     "text": [
      "/opt/conda/lib/python3.7/site-packages/seaborn/_decorators.py:43: FutureWarning: Pass the following variables as keyword args: x, y. From version 0.12, the only valid positional argument will be `data`, and passing other arguments without an explicit keyword will result in an error or misinterpretation.\n",
      "  FutureWarning\n"
     ]
    },
    {
     "name": "stdout",
     "output_type": "stream",
     "text": [
      "TOP 30 words used in spam messages\n"
     ]
    },
    {
     "data": {
      "image/png": "[encoded data removed]",
      "text/plain": [
       "<Figure size 432x288 with 1 Axes>"
      ]
     },
     "metadata": {
      "needs_background": "light"
     },
     "output_type": "display_data"
    }
   ],
   "source": [
    "#Let's get the text data in a list format and then split into words\n",
    "spam_words=[]\n",
    "for message in df[df['target']==1]['transformed_text'].tolist():\n",
    "    for word in message.split():\n",
    "        spam_words.append(word)\n",
    "from collections import Counter\n",
    "words_count=pd.DataFrame(Counter(spam_words).most_common(30))\n",
    "sns.barplot(words_count[0],words_count[1])\n",
    "print(\"TOP 30 words used in spam messages\")\n",
    "plt.xticks(rotation='vertical')\n",
    "plt.show()\n",
    "\n"
   ]
  },
  {
   "cell_type": "code",
   "execution_count": 41,
   "id": "4b8498b4",
   "metadata": {
    "execution": {
     "iopub.execute_input": "2022-12-23T05:47:38.062833Z",
     "iopub.status.busy": "2022-12-23T05:47:38.062379Z",
     "iopub.status.idle": "2022-12-23T05:47:38.440996Z",
     "shell.execute_reply": "2022-12-23T05:47:38.439634Z"
    },
    "papermill": {
     "duration": 0.412074,
     "end_time": "2022-12-23T05:47:38.443603",
     "exception": false,
     "start_time": "2022-12-23T05:47:38.031529",
     "status": "completed"
    },
    "tags": []
   },
   "outputs": [
    {
     "name": "stderr",
     "output_type": "stream",
     "text": [
      "/opt/conda/lib/python3.7/site-packages/seaborn/_decorators.py:43: FutureWarning: Pass the following variables as keyword args: x, y. From version 0.12, the only valid positional argument will be `data`, and passing other arguments without an explicit keyword will result in an error or misinterpretation.\n",
      "  FutureWarning\n"
     ]
    },
    {
     "name": "stdout",
     "output_type": "stream",
     "text": [
      "TOP 30 words used in ham messages\n"
     ]
    },
    {
     "data": {
      "image/png": "[encoded data removed]",
      "text/plain": [
       "<Figure size 432x288 with 1 Axes>"
      ]
     },
     "metadata": {
      "needs_background": "light"
     },
     "output_type": "display_data"
    }
   ],
   "source": [
    "ham_words=[]\n",
    "for message in df[df['target']==0]['transformed_text'].tolist():\n",
    "    for word in message.split():\n",
    "        ham_words.append(word)\n",
    "from collections import Counter\n",
    "words_count=pd.DataFrame(Counter(ham_words).most_common(30))\n",
    "sns.barplot(words_count[0],words_count[1])\n",
    "print(\"TOP 30 words used in ham messages\")\n",
    "plt.xticks(rotation='vertical')\n",
    "plt.show()\n"
   ]
  },
  {
   "cell_type": "markdown",
   "id": "8cbed53b",
   "metadata": {
    "papermill": {
     "duration": 0.029936,
     "end_time": "2022-12-23T05:47:38.503650",
     "exception": false,
     "start_time": "2022-12-23T05:47:38.473714",
     "status": "completed"
    },
    "tags": []
   },
   "source": [
    "# Model Building"
   ]
  },
  {
   "cell_type": "code",
   "execution_count": 42,
   "id": "5f2a0332",
   "metadata": {
    "execution": {
     "iopub.execute_input": "2022-12-23T05:47:38.566762Z",
     "iopub.status.busy": "2022-12-23T05:47:38.566320Z",
     "iopub.status.idle": "2022-12-23T05:47:38.578800Z",
     "shell.execute_reply": "2022-12-23T05:47:38.577670Z"
    },
    "papermill": {
     "duration": 0.046992,
     "end_time": "2022-12-23T05:47:38.581037",
     "exception": false,
     "start_time": "2022-12-23T05:47:38.534045",
     "status": "completed"
    },
    "tags": []
   },
   "outputs": [
    {
     "data": {
      "text/html": [
       "<div>\n",
       "<style scoped>\n",
       "    .dataframe tbody tr th:only-of-type {\n",
       "        vertical-align: middle;\n",
       "    }\n",
       "\n",
       "    .dataframe tbody tr th {\n",
       "        vertical-align: top;\n",
       "    }\n",
       "\n",
       "    .dataframe thead th {\n",
       "        text-align: right;\n",
       "    }\n",
       "</style>\n",
       "<table border=\"1\" class=\"dataframe\">\n",
       "  <thead>\n",
       "    <tr style=\"text-align: right;\">\n",
       "      <th></th>\n",
       "      <th>target</th>\n",
       "      <th>text</th>\n",
       "      <th>Number_of_characters</th>\n",
       "      <th>Number_of_sentences</th>\n",
       "      <th>Number_of_words</th>\n",
       "      <th>transformed_text</th>\n",
       "    </tr>\n",
       "  </thead>\n",
       "  <tbody>\n",
       "    <tr>\n",
       "      <th>0</th>\n",
       "      <td>0</td>\n",
       "      <td>Go until jurong point, crazy.. Available only ...</td>\n",
       "      <td>111</td>\n",
       "      <td>2</td>\n",
       "      <td>24</td>\n",
       "      <td>go jurong point crazi avail bugi n great world...</td>\n",
       "    </tr>\n",
       "    <tr>\n",
       "      <th>1</th>\n",
       "      <td>0</td>\n",
       "      <td>Ok lar... Joking wif u oni...</td>\n",
       "      <td>29</td>\n",
       "      <td>2</td>\n",
       "      <td>8</td>\n",
       "      <td>ok lar joke wif u oni</td>\n",
       "    </tr>\n",
       "  </tbody>\n",
       "</table>\n",
       "</div>"
      ],
      "text/plain": [
       "   target                                               text  \\\n",
       "0       0  Go until jurong point, crazy.. Available only ...   \n",
       "1       0                      Ok lar... Joking wif u oni...   \n",
       "\n",
       "   Number_of_characters  Number_of_sentences  Number_of_words  \\\n",
       "0                   111                    2               24   \n",
       "1                    29                    2                8   \n",
       "\n",
       "                                    transformed_text  \n",
       "0  go jurong point crazi avail bugi n great world...  \n",
       "1                              ok lar joke wif u oni  "
      ]
     },
     "execution_count": 42,
     "metadata": {},
     "output_type": "execute_result"
    }
   ],
   "source": [
    "df.head(2)"
   ]
  },
  {
   "cell_type": "markdown",
   "id": "0735f179",
   "metadata": {
    "papermill": {
     "duration": 0.030539,
     "end_time": "2022-12-23T05:47:38.641556",
     "exception": false,
     "start_time": "2022-12-23T05:47:38.611017",
     "status": "completed"
    },
    "tags": []
   },
   "source": [
    "As machines cannot understand text words, we have to convert them into machine readable form. To do that, here we are going to use vectorization techinque"
   ]
  },
  {
   "cell_type": "code",
   "execution_count": 43,
   "id": "5bd65a6a",
   "metadata": {
    "execution": {
     "iopub.execute_input": "2022-12-23T05:47:38.705197Z",
     "iopub.status.busy": "2022-12-23T05:47:38.704753Z",
     "iopub.status.idle": "2022-12-23T05:47:38.709564Z",
     "shell.execute_reply": "2022-12-23T05:47:38.708420Z"
    },
    "papermill": {
     "duration": 0.039439,
     "end_time": "2022-12-23T05:47:38.711722",
     "exception": false,
     "start_time": "2022-12-23T05:47:38.672283",
     "status": "completed"
    },
    "tags": []
   },
   "outputs": [],
   "source": [
    "# Word Embeddings or Word vectorization is a methodology in NLP to map words or phrases from vocabulary to a corresponding vector of real numbers which used to find word predictions, \n",
    "#word similarities/semantics.\n",
    "#The process of converting words into numbers are called Vectorization."
   ]
  },
  {
   "cell_type": "code",
   "execution_count": 44,
   "id": "4f7eb5bf",
   "metadata": {
    "execution": {
     "iopub.execute_input": "2022-12-23T05:47:38.773534Z",
     "iopub.status.busy": "2022-12-23T05:47:38.773110Z",
     "iopub.status.idle": "2022-12-23T05:47:38.777452Z",
     "shell.execute_reply": "2022-12-23T05:47:38.776473Z"
    },
    "papermill": {
     "duration": 0.03839,
     "end_time": "2022-12-23T05:47:38.779954",
     "exception": false,
     "start_time": "2022-12-23T05:47:38.741564",
     "status": "completed"
    },
    "tags": []
   },
   "outputs": [],
   "source": [
    "#There are three methods of vectorization\n",
    "# 1.Bag of words\n",
    "# 2.TF-IDF\n",
    "# 3.wordtovect\n",
    "#But to save time, I am using tfidf as it works better with classification.\n",
    "#you can check other methods if you want"
   ]
  },
  {
   "cell_type": "code",
   "execution_count": 45,
   "id": "240d5cda",
   "metadata": {
    "execution": {
     "iopub.execute_input": "2022-12-23T05:47:38.841880Z",
     "iopub.status.busy": "2022-12-23T05:47:38.841459Z",
     "iopub.status.idle": "2022-12-23T05:47:38.845982Z",
     "shell.execute_reply": "2022-12-23T05:47:38.845093Z"
    },
    "papermill": {
     "duration": 0.037846,
     "end_time": "2022-12-23T05:47:38.847994",
     "exception": false,
     "start_time": "2022-12-23T05:47:38.810148",
     "status": "completed"
    },
    "tags": []
   },
   "outputs": [],
   "source": [
    "from sklearn.feature_extraction.text import CountVectorizer,TfidfVectorizer\n",
    "tfidf=TfidfVectorizer(max_features=3000)"
   ]
  },
  {
   "cell_type": "code",
   "execution_count": 46,
   "id": "13397d49",
   "metadata": {
    "execution": {
     "iopub.execute_input": "2022-12-23T05:47:38.911025Z",
     "iopub.status.busy": "2022-12-23T05:47:38.910597Z",
     "iopub.status.idle": "2022-12-23T05:47:38.914869Z",
     "shell.execute_reply": "2022-12-23T05:47:38.914080Z"
    },
    "papermill": {
     "duration": 0.038556,
     "end_time": "2022-12-23T05:47:38.917044",
     "exception": false,
     "start_time": "2022-12-23T05:47:38.878488",
     "status": "completed"
    },
    "tags": []
   },
   "outputs": [],
   "source": [
    "#We can do scaling here but it's of no use.\n",
    "# If you want you can try Minmax scaler.I have tried it already, \n",
    "# accuracy is coming high but on the cost of precision.hence same was opted out."
   ]
  },
  {
   "cell_type": "code",
   "execution_count": 47,
   "id": "d011cc7d",
   "metadata": {
    "execution": {
     "iopub.execute_input": "2022-12-23T05:47:38.980030Z",
     "iopub.status.busy": "2022-12-23T05:47:38.979595Z",
     "iopub.status.idle": "2022-12-23T05:47:38.987454Z",
     "shell.execute_reply": "2022-12-23T05:47:38.986600Z"
    },
    "papermill": {
     "duration": 0.041828,
     "end_time": "2022-12-23T05:47:38.989751",
     "exception": false,
     "start_time": "2022-12-23T05:47:38.947923",
     "status": "completed"
    },
    "tags": []
   },
   "outputs": [],
   "source": [
    "#importing necessary libraries\n",
    "from sklearn.metrics import accuracy_score,confusion_matrix,precision_score,f1_score\n",
    "from sklearn.naive_bayes import GaussianNB,MultinomialNB,BernoulliNB"
   ]
  },
  {
   "cell_type": "code",
   "execution_count": 48,
   "id": "f43907e1",
   "metadata": {
    "execution": {
     "iopub.execute_input": "2022-12-23T05:47:39.054012Z",
     "iopub.status.busy": "2022-12-23T05:47:39.053207Z",
     "iopub.status.idle": "2022-12-23T05:47:39.896916Z",
     "shell.execute_reply": "2022-12-23T05:47:39.891556Z"
    },
    "papermill": {
     "duration": 0.881205,
     "end_time": "2022-12-23T05:47:39.902112",
     "exception": false,
     "start_time": "2022-12-23T05:47:39.020907",
     "status": "completed"
    },
    "tags": []
   },
   "outputs": [
    {
     "name": "stdout",
     "output_type": "stream",
     "text": [
      "GaussianNB\n",
      "accuracy_score 0.8607350096711799\n",
      "[[769 120]\n",
      " [ 24 121]]\n",
      "precision_score 0.5020746887966805\n",
      "---------------\n",
      "MultinomialNB\n",
      "accuracy_score 0.9729206963249516\n",
      "[[888   1]\n",
      " [ 27 118]]\n",
      "precision_score 0.9915966386554622\n",
      "---------------\n",
      "BernoulliNB\n",
      "accuracy_score 0.9729206963249516\n",
      "[[884   5]\n",
      " [ 23 122]]\n",
      "precision_score 0.9606299212598425\n"
     ]
    }
   ],
   "source": [
    "#Using TFIDF vectorization\n",
    "X=tfidf.fit_transform(df['transformed_text']).toarray()#Converting sparse array to dense array\n",
    "y=df['target'].values\n",
    "from sklearn.model_selection import train_test_split\n",
    "X_train,X_test,y_train,y_test=train_test_split(X,y,test_size=0.2,random_state=42)\n",
    "\n",
    "gnb=GaussianNB()\n",
    "mnb=MultinomialNB()\n",
    "bnb=BernoulliNB()\n",
    "gnb.fit(X_train,y_train)\n",
    "y_pred=gnb.predict(X_test)\n",
    "print('GaussianNB')\n",
    "print('accuracy_score',accuracy_score(y_test,y_pred))\n",
    "print(confusion_matrix(y_test,y_pred))\n",
    "print('precision_score',precision_score(y_test,y_pred))\n",
    "print('---------------')\n",
    "print('MultinomialNB')\n",
    "mnb.fit(X_train,y_train)\n",
    "y_pred_2=mnb.predict(X_test)\n",
    "print('accuracy_score',accuracy_score(y_test,y_pred_2))\n",
    "print(confusion_matrix(y_test,y_pred_2))\n",
    "print('precision_score',precision_score(y_test,y_pred_2))\n",
    "print('---------------')\n",
    "print('BernoulliNB')\n",
    "bnb.fit(X_train,y_train)\n",
    "y_pred_3=bnb.predict(X_test)\n",
    "print('accuracy_score',accuracy_score(y_test,y_pred_3))\n",
    "print(confusion_matrix(y_test,y_pred_3))\n",
    "print('precision_score',precision_score(y_test,y_pred_3))"
   ]
  },
  {
   "cell_type": "markdown",
   "id": "a0b313ab",
   "metadata": {
    "papermill": {
     "duration": 0.045212,
     "end_time": "2022-12-23T05:47:40.024689",
     "exception": false,
     "start_time": "2022-12-23T05:47:39.979477",
     "status": "completed"
    },
    "tags": []
   },
   "source": [
    "# As precision score is important in spam detection, MultinomialNB model working great having accuracy score of 97% and precision score of 99.1%"
   ]
  },
  {
   "cell_type": "code",
   "execution_count": 49,
   "id": "e20cf33b",
   "metadata": {
    "execution": {
     "iopub.execute_input": "2022-12-23T05:47:40.086249Z",
     "iopub.status.busy": "2022-12-23T05:47:40.085885Z",
     "iopub.status.idle": "2022-12-23T05:47:40.089901Z",
     "shell.execute_reply": "2022-12-23T05:47:40.089015Z"
    },
    "papermill": {
     "duration": 0.037654,
     "end_time": "2022-12-23T05:47:40.091991",
     "exception": false,
     "start_time": "2022-12-23T05:47:40.054337",
     "status": "completed"
    },
    "tags": []
   },
   "outputs": [],
   "source": [
    "# Can any other algo gives better results than this???\n",
    "#Let's check"
   ]
  },
  {
   "cell_type": "code",
   "execution_count": 50,
   "id": "0f64142f",
   "metadata": {
    "execution": {
     "iopub.execute_input": "2022-12-23T05:47:40.154470Z",
     "iopub.status.busy": "2022-12-23T05:47:40.153809Z",
     "iopub.status.idle": "2022-12-23T05:47:40.393699Z",
     "shell.execute_reply": "2022-12-23T05:47:40.392650Z"
    },
    "papermill": {
     "duration": 0.275125,
     "end_time": "2022-12-23T05:47:40.396763",
     "exception": false,
     "start_time": "2022-12-23T05:47:40.121638",
     "status": "completed"
    },
    "tags": []
   },
   "outputs": [],
   "source": [
    "from sklearn.linear_model import LogisticRegression\n",
    "from sklearn.svm import SVC\n",
    "from sklearn.naive_bayes import MultinomialNB\n",
    "from sklearn.tree import DecisionTreeClassifier\n",
    "from sklearn.neighbors import KNeighborsClassifier\n",
    "from sklearn.ensemble import RandomForestClassifier\n",
    "from sklearn.ensemble import AdaBoostClassifier\n",
    "from sklearn.ensemble import BaggingClassifier\n",
    "from sklearn.ensemble import ExtraTreesClassifier\n",
    "from sklearn.ensemble import GradientBoostingClassifier\n",
    "from xgboost import XGBClassifier"
   ]
  },
  {
   "cell_type": "code",
   "execution_count": 51,
   "id": "e43590fc",
   "metadata": {
    "execution": {
     "iopub.execute_input": "2022-12-23T05:47:40.461956Z",
     "iopub.status.busy": "2022-12-23T05:47:40.461177Z",
     "iopub.status.idle": "2022-12-23T05:47:40.469386Z",
     "shell.execute_reply": "2022-12-23T05:47:40.468082Z"
    },
    "papermill": {
     "duration": 0.043613,
     "end_time": "2022-12-23T05:47:40.471857",
     "exception": false,
     "start_time": "2022-12-23T05:47:40.428244",
     "status": "completed"
    },
    "tags": []
   },
   "outputs": [],
   "source": [
    "svc = SVC(kernel='sigmoid', gamma=1.0)\n",
    "knc = KNeighborsClassifier()\n",
    "mnb = MultinomialNB()\n",
    "dtc = DecisionTreeClassifier(max_depth=5)\n",
    "lrc = LogisticRegression(solver='liblinear', penalty='l1')\n",
    "rfc = RandomForestClassifier(n_estimators=50, random_state=2)\n",
    "abc = AdaBoostClassifier(n_estimators=50, random_state=2)\n",
    "bc = BaggingClassifier(n_estimators=50, random_state=2)\n",
    "etc = ExtraTreesClassifier(n_estimators=50, random_state=2)\n",
    "gbdt = GradientBoostingClassifier(n_estimators=50,random_state=2)\n",
    "xgb = XGBClassifier(n_estimators=50,random_state=2)"
   ]
  },
  {
   "cell_type": "code",
   "execution_count": 52,
   "id": "56ebc76c",
   "metadata": {
    "execution": {
     "iopub.execute_input": "2022-12-23T05:47:40.533379Z",
     "iopub.status.busy": "2022-12-23T05:47:40.532974Z",
     "iopub.status.idle": "2022-12-23T05:47:40.538855Z",
     "shell.execute_reply": "2022-12-23T05:47:40.537515Z"
    },
    "papermill": {
     "duration": 0.03975,
     "end_time": "2022-12-23T05:47:40.541261",
     "exception": false,
     "start_time": "2022-12-23T05:47:40.501511",
     "status": "completed"
    },
    "tags": []
   },
   "outputs": [],
   "source": [
    "clfs = {\n",
    "    'SVC' : svc,\n",
    "    'KN' : knc, \n",
    "    'NB': mnb, \n",
    "    'DT': dtc, \n",
    "    'LR': lrc, \n",
    "    'RF': rfc, \n",
    "    'AdaBoost': abc, \n",
    "    'BgC': bc, \n",
    "    'ETC': etc,\n",
    "    'GBDT':gbdt,\n",
    "    'xgb':xgb\n",
    "}"
   ]
  },
  {
   "cell_type": "code",
   "execution_count": 53,
   "id": "df116987",
   "metadata": {
    "execution": {
     "iopub.execute_input": "2022-12-23T05:47:40.604194Z",
     "iopub.status.busy": "2022-12-23T05:47:40.603809Z",
     "iopub.status.idle": "2022-12-23T05:47:40.609805Z",
     "shell.execute_reply": "2022-12-23T05:47:40.608574Z"
    },
    "papermill": {
     "duration": 0.040334,
     "end_time": "2022-12-23T05:47:40.612310",
     "exception": false,
     "start_time": "2022-12-23T05:47:40.571976",
     "status": "completed"
    },
    "tags": []
   },
   "outputs": [],
   "source": [
    "def train_classifier(clf,X_train,y_train,X_test,y_test):\n",
    "    clf.fit(X_train,y_train)\n",
    "    y_pred = clf.predict(X_test)\n",
    "    accuracy = accuracy_score(y_test,y_pred)\n",
    "    precision = precision_score(y_test,y_pred)\n",
    "    \n",
    "    return accuracy,precision"
   ]
  },
  {
   "cell_type": "code",
   "execution_count": 54,
   "id": "60bb76f7",
   "metadata": {
    "execution": {
     "iopub.execute_input": "2022-12-23T05:47:40.674916Z",
     "iopub.status.busy": "2022-12-23T05:47:40.674478Z",
     "iopub.status.idle": "2022-12-23T05:47:49.393199Z",
     "shell.execute_reply": "2022-12-23T05:47:49.391855Z"
    },
    "papermill": {
     "duration": 8.753307,
     "end_time": "2022-12-23T05:47:49.395658",
     "exception": false,
     "start_time": "2022-12-23T05:47:40.642351",
     "status": "completed"
    },
    "tags": []
   },
   "outputs": [
    {
     "data": {
      "text/plain": [
       "(0.97678916827853, 0.9548872180451128)"
      ]
     },
     "execution_count": 54,
     "metadata": {},
     "output_type": "execute_result"
    }
   ],
   "source": [
    "train_classifier(svc,X_train,y_train,X_test,y_test)#support vector machine results"
   ]
  },
  {
   "cell_type": "code",
   "execution_count": 55,
   "id": "38b8e5c4",
   "metadata": {
    "execution": {
     "iopub.execute_input": "2022-12-23T05:47:49.457641Z",
     "iopub.status.busy": "2022-12-23T05:47:49.457230Z",
     "iopub.status.idle": "2022-12-23T05:50:15.005569Z",
     "shell.execute_reply": "2022-12-23T05:50:15.004686Z"
    },
    "papermill": {
     "duration": 145.582497,
     "end_time": "2022-12-23T05:50:15.008016",
     "exception": false,
     "start_time": "2022-12-23T05:47:49.425519",
     "status": "completed"
    },
    "tags": []
   },
   "outputs": [
    {
     "name": "stdout",
     "output_type": "stream",
     "text": [
      "For  SVC\n",
      "Accuracy -  0.97678916827853\n",
      "Precision -  0.9548872180451128\n",
      "For  KN\n",
      "Accuracy -  0.9100580270793037\n",
      "Precision -  1.0\n",
      "For  NB\n",
      "Accuracy -  0.9729206963249516\n",
      "Precision -  0.9915966386554622\n",
      "For  DT\n",
      "Accuracy -  0.9332688588007737\n",
      "Precision -  0.8275862068965517\n",
      "For  LR\n",
      "Accuracy -  0.9468085106382979\n",
      "Precision -  0.8688524590163934\n",
      "For  RF\n",
      "Accuracy -  0.9738878143133463\n",
      "Precision -  0.9836065573770492\n",
      "For  AdaBoost\n",
      "Accuracy -  0.9506769825918762\n",
      "Precision -  0.8671875\n",
      "For  BgC\n",
      "Accuracy -  0.9613152804642167\n",
      "Precision -  0.8832116788321168\n",
      "For  ETC\n",
      "Accuracy -  0.9777562862669246\n",
      "Precision -  0.9841269841269841\n",
      "For  GBDT\n",
      "Accuracy -  0.9468085106382979\n",
      "Precision -  0.95\n",
      "For  xgb\n",
      "Accuracy -  0.9680851063829787\n",
      "Precision -  0.9242424242424242\n"
     ]
    }
   ],
   "source": [
    "accuracy_scores = []\n",
    "precision_scores = []\n",
    "\n",
    "for name,clf in clfs.items():\n",
    "    \n",
    "    current_accuracy,current_precision = train_classifier(clf, X_train,y_train,X_test,y_test)\n",
    "    \n",
    "    print(\"For \",name)\n",
    "    print(\"Accuracy - \",current_accuracy)\n",
    "    print(\"Precision - \",current_precision)\n",
    "    \n",
    "    accuracy_scores.append(current_accuracy)\n",
    "    precision_scores.append(current_precision)"
   ]
  },
  {
   "cell_type": "code",
   "execution_count": 56,
   "id": "611de350",
   "metadata": {
    "execution": {
     "iopub.execute_input": "2022-12-23T05:50:15.072374Z",
     "iopub.status.busy": "2022-12-23T05:50:15.071965Z",
     "iopub.status.idle": "2022-12-23T05:50:15.079372Z",
     "shell.execute_reply": "2022-12-23T05:50:15.078221Z"
    },
    "papermill": {
     "duration": 0.040915,
     "end_time": "2022-12-23T05:50:15.081776",
     "exception": false,
     "start_time": "2022-12-23T05:50:15.040861",
     "status": "completed"
    },
    "tags": []
   },
   "outputs": [],
   "source": [
    "performance_df = pd.DataFrame({'Algorithm':clfs.keys(),'Accuracy':accuracy_scores,'Precision':precision_scores}).sort_values('Precision',ascending=False)"
   ]
  },
  {
   "cell_type": "code",
   "execution_count": 57,
   "id": "4d069591",
   "metadata": {
    "execution": {
     "iopub.execute_input": "2022-12-23T05:50:15.143954Z",
     "iopub.status.busy": "2022-12-23T05:50:15.142974Z",
     "iopub.status.idle": "2022-12-23T05:50:15.155200Z",
     "shell.execute_reply": "2022-12-23T05:50:15.154034Z"
    },
    "papermill": {
     "duration": 0.045567,
     "end_time": "2022-12-23T05:50:15.157363",
     "exception": false,
     "start_time": "2022-12-23T05:50:15.111796",
     "status": "completed"
    },
    "tags": []
   },
   "outputs": [
    {
     "data": {
      "text/html": [
       "<div>\n",
       "<style scoped>\n",
       "    .dataframe tbody tr th:only-of-type {\n",
       "        vertical-align: middle;\n",
       "    }\n",
       "\n",
       "    .dataframe tbody tr th {\n",
       "        vertical-align: top;\n",
       "    }\n",
       "\n",
       "    .dataframe thead th {\n",
       "        text-align: right;\n",
       "    }\n",
       "</style>\n",
       "<table border=\"1\" class=\"dataframe\">\n",
       "  <thead>\n",
       "    <tr style=\"text-align: right;\">\n",
       "      <th></th>\n",
       "      <th>Algorithm</th>\n",
       "      <th>Accuracy</th>\n",
       "      <th>Precision</th>\n",
       "    </tr>\n",
       "  </thead>\n",
       "  <tbody>\n",
       "    <tr>\n",
       "      <th>1</th>\n",
       "      <td>KN</td>\n",
       "      <td>0.910058</td>\n",
       "      <td>1.000000</td>\n",
       "    </tr>\n",
       "    <tr>\n",
       "      <th>2</th>\n",
       "      <td>NB</td>\n",
       "      <td>0.972921</td>\n",
       "      <td>0.991597</td>\n",
       "    </tr>\n",
       "    <tr>\n",
       "      <th>8</th>\n",
       "      <td>ETC</td>\n",
       "      <td>0.977756</td>\n",
       "      <td>0.984127</td>\n",
       "    </tr>\n",
       "    <tr>\n",
       "      <th>5</th>\n",
       "      <td>RF</td>\n",
       "      <td>0.973888</td>\n",
       "      <td>0.983607</td>\n",
       "    </tr>\n",
       "    <tr>\n",
       "      <th>0</th>\n",
       "      <td>SVC</td>\n",
       "      <td>0.976789</td>\n",
       "      <td>0.954887</td>\n",
       "    </tr>\n",
       "    <tr>\n",
       "      <th>9</th>\n",
       "      <td>GBDT</td>\n",
       "      <td>0.946809</td>\n",
       "      <td>0.950000</td>\n",
       "    </tr>\n",
       "    <tr>\n",
       "      <th>10</th>\n",
       "      <td>xgb</td>\n",
       "      <td>0.968085</td>\n",
       "      <td>0.924242</td>\n",
       "    </tr>\n",
       "    <tr>\n",
       "      <th>7</th>\n",
       "      <td>BgC</td>\n",
       "      <td>0.961315</td>\n",
       "      <td>0.883212</td>\n",
       "    </tr>\n",
       "    <tr>\n",
       "      <th>4</th>\n",
       "      <td>LR</td>\n",
       "      <td>0.946809</td>\n",
       "      <td>0.868852</td>\n",
       "    </tr>\n",
       "    <tr>\n",
       "      <th>6</th>\n",
       "      <td>AdaBoost</td>\n",
       "      <td>0.950677</td>\n",
       "      <td>0.867188</td>\n",
       "    </tr>\n",
       "    <tr>\n",
       "      <th>3</th>\n",
       "      <td>DT</td>\n",
       "      <td>0.933269</td>\n",
       "      <td>0.827586</td>\n",
       "    </tr>\n",
       "  </tbody>\n",
       "</table>\n",
       "</div>"
      ],
      "text/plain": [
       "   Algorithm  Accuracy  Precision\n",
       "1         KN  0.910058   1.000000\n",
       "2         NB  0.972921   0.991597\n",
       "8        ETC  0.977756   0.984127\n",
       "5         RF  0.973888   0.983607\n",
       "0        SVC  0.976789   0.954887\n",
       "9       GBDT  0.946809   0.950000\n",
       "10       xgb  0.968085   0.924242\n",
       "7        BgC  0.961315   0.883212\n",
       "4         LR  0.946809   0.868852\n",
       "6   AdaBoost  0.950677   0.867188\n",
       "3         DT  0.933269   0.827586"
      ]
     },
     "execution_count": 57,
     "metadata": {},
     "output_type": "execute_result"
    }
   ],
   "source": [
    "performance_df"
   ]
  },
  {
   "cell_type": "markdown",
   "id": "acff9cb8",
   "metadata": {
    "papermill": {
     "duration": 0.029715,
     "end_time": "2022-12-23T05:50:15.216838",
     "exception": false,
     "start_time": "2022-12-23T05:50:15.187123",
     "status": "completed"
    },
    "tags": []
   },
   "source": [
    "# Multinomial NB model is working great having better accuracy and best Precision value..Hence we will opt for Multinomial NB among all models."
   ]
  },
  {
   "cell_type": "code",
   "execution_count": 58,
   "id": "d18ad1be",
   "metadata": {
    "execution": {
     "iopub.execute_input": "2022-12-23T05:50:15.278451Z",
     "iopub.status.busy": "2022-12-23T05:50:15.277825Z",
     "iopub.status.idle": "2022-12-23T05:50:15.282433Z",
     "shell.execute_reply": "2022-12-23T05:50:15.281672Z"
    },
    "papermill": {
     "duration": 0.038176,
     "end_time": "2022-12-23T05:50:15.284739",
     "exception": false,
     "start_time": "2022-12-23T05:50:15.246563",
     "status": "completed"
    },
    "tags": []
   },
   "outputs": [],
   "source": [
    "# Thank you very much!!!!Please comment for any suggestions."
   ]
  },
  {
   "cell_type": "code",
   "execution_count": null,
   "id": "857e153b",
   "metadata": {
    "papermill": {
     "duration": 0.029287,
     "end_time": "2022-12-23T05:50:15.343889",
     "exception": false,
     "start_time": "2022-12-23T05:50:15.314602",
     "status": "completed"
    },
    "tags": []
   },
   "outputs": [],
   "source": []
  }
 ],
 "metadata": {
  "kernelspec": {
   "display_name": "Python 3",
   "language": "python",
   "name": "python3"
  },
  "language_info": {
   "codemirror_mode": {
    "name": "ipython",
    "version": 3
   },
   "file_extension": ".py",
   "mimetype": "text/x-python",
   "name": "python",
   "nbconvert_exporter": "python",
   "pygments_lexer": "ipython3",
   "version": "3.7.12"
  },
  "papermill": {
   "default_parameters": {},
   "duration": 195.585564,
   "end_time": "2022-12-23T05:50:16.295667",
   "environment_variables": {},
   "exception": null,
   "input_path": "__notebook__.ipynb",
   "output_path": "__notebook__.ipynb",
   "parameters": {},
   "start_time": "2022-12-23T05:47:00.710103",
   "version": "2.3.4"
  }
 },
 "nbformat": 4,
 "nbformat_minor": 5
}
